{
  "nbformat": 4,
  "nbformat_minor": 0,
  "metadata": {
    "colab": {
      "name": "Day 03.ipynb",
      "provenance": [],
      "collapsed_sections": []
    },
    "kernelspec": {
      "name": "python3",
      "display_name": "Python 3"
    }
  },
  "cells": [
    {
      "cell_type": "code",
      "metadata": {
        "id": "Ot3isQTNgTTM",
        "colab_type": "code",
        "colab": {
          "base_uri": "https://localhost:8080/",
          "height": 34
        },
        "outputId": "5d156eef-560e-4251-e12b-988789ba8bbf"
      },
      "source": [
        "# Program to substract two complex numbers in python\n",
        "\n",
        "a = 3+4j\n",
        "b= 2+1j\n",
        "c = a-b\n",
        "c"
      ],
      "execution_count": 5,
      "outputs": [
        {
          "output_type": "execute_result",
          "data": {
            "text/plain": [
              "(1+3j)"
            ]
          },
          "metadata": {
            "tags": []
          },
          "execution_count": 5
        }
      ]
    },
    {
      "cell_type": "code",
      "metadata": {
        "id": "gQeGIllVgv-G",
        "colab_type": "code",
        "colab": {
          "base_uri": "https://localhost:8080/",
          "height": 34
        },
        "outputId": "da41d0cb-0c5c-4651-ae7a-9a513cc67156"
      },
      "source": [
        "# Program to find the fourth root of a number\n",
        "\n",
        "2**4"
      ],
      "execution_count": 7,
      "outputs": [
        {
          "output_type": "execute_result",
          "data": {
            "text/plain": [
              "16"
            ]
          },
          "metadata": {
            "tags": []
          },
          "execution_count": 7
        }
      ]
    },
    {
      "cell_type": "code",
      "metadata": {
        "id": "_rilUc5lg5zv",
        "colab_type": "code",
        "colab": {
          "base_uri": "https://localhost:8080/",
          "height": 51
        },
        "outputId": "707b5f49-cd57-43a0-9f58-e636f76a0f00"
      },
      "source": [
        "# program to swap number in python using Temp variable\n",
        "\n",
        "a =10\n",
        "b =20\n",
        "print(\"actual a value  = \",a,\" and actual b Values =\",b)\n",
        "c = a\n",
        "a = b\n",
        "b = c\n",
        "print(\"a value after swaping  = \",a,\" and  b value after swaping =\",b)"
      ],
      "execution_count": 16,
      "outputs": [
        {
          "output_type": "stream",
          "text": [
            "actual a value  =  10  and actual b Values = 20\n",
            "a value after swaping  =  20  and  b value after swaping = 10\n"
          ],
          "name": "stdout"
        }
      ]
    },
    {
      "cell_type": "code",
      "metadata": {
        "id": "EgXRilVnhVWl",
        "colab_type": "code",
        "colab": {
          "base_uri": "https://localhost:8080/",
          "height": 51
        },
        "outputId": "708469db-f246-4b59-8228-bd98376b8c21"
      },
      "source": [
        "# Program to swamp number in python without using Temp variable\n",
        "\n",
        "a = 100\n",
        "b = 200\n",
        "print(\"actual a value  = \",a,\" and actual b Values =\",b)\n",
        "a,b = b,a\n",
        "print(\"a value after swaping  = \",a,\" and  b value after swaping =\",b)"
      ],
      "execution_count": 18,
      "outputs": [
        {
          "output_type": "stream",
          "text": [
            "actual a value  =  100  and actual b Values = 200\n",
            "a value after swaping  =  200  and  b value after swaping = 100\n"
          ],
          "name": "stdout"
        }
      ]
    },
    {
      "cell_type": "code",
      "metadata": {
        "id": "rL1nsD_-h59Z",
        "colab_type": "code",
        "colab": {
          "base_uri": "https://localhost:8080/",
          "height": 51
        },
        "outputId": "1b2f2943-e551-4e52-a718-0d384390c196"
      },
      "source": [
        "# Program to convert Farheinheit to Kelvin and Celsius Both\n",
        "\n",
        "Farheinheit_Temperature  = 27\n",
        "\n",
        "Farheinheit_to_Kelvin  = (Farheinheit_Temperature-32) * 5/9 + 273.15\n",
        "Farheinheit_to_Celsius = (Farheinheit_Temperature-32) * 5/9\n",
        "\n",
        "print(\"Farheinheit is:\", Farheinheit_Temperature, \"and In Kelvin Temperature is:\", Farheinheit_to_Kelvin)\n",
        "print(\"Farheinheit is:\", Farheinheit_Temperature, \"and In Celsius Temperature is:\", Farheinheit_to_Celsius)"
      ],
      "execution_count": 30,
      "outputs": [
        {
          "output_type": "stream",
          "text": [
            "Farheinheit is: 27 and In Kelvin Temperature is: 270.3722222222222\n",
            "Farheinheit is: 27 and In Celsius Temperature is: -2.7777777777777777\n"
          ],
          "name": "stdout"
        }
      ]
    },
    {
      "cell_type": "code",
      "metadata": {
        "id": "ZPK4GyWXjkWo",
        "colab_type": "code",
        "colab": {
          "base_uri": "https://localhost:8080/",
          "height": 102
        },
        "outputId": "a7a2db68-c3f9-4cc2-8f0c-5a2601ef90eb"
      },
      "source": [
        "#Program to demonstrate all type of avialble data types:\n",
        "\n",
        "\n",
        "print(type(2))\n",
        "print(type(2.2))\n",
        "print(type(2+10j))\n",
        "print(type(2200884239879))\n",
        "print(type('Hello'))"
      ],
      "execution_count": 37,
      "outputs": [
        {
          "output_type": "stream",
          "text": [
            "<class 'int'>\n",
            "<class 'float'>\n",
            "<class 'complex'>\n",
            "<class 'int'>\n",
            "<class 'str'>\n"
          ],
          "name": "stdout"
        }
      ]
    },
    {
      "cell_type": "code",
      "metadata": {
        "id": "O-QH45yNkie8",
        "colab_type": "code",
        "colab": {}
      },
      "source": [
        ""
      ],
      "execution_count": null,
      "outputs": []
    },
    {
      "cell_type": "markdown",
      "metadata": {
        "id": "ft3ksy8mkkN6",
        "colab_type": "text"
      },
      "source": [
        "# Steps to create Github\n",
        "\n",
        "Open an Web browser and go to www.github.com. \n",
        "\n",
        "1.   sign up or create an account.\n",
        "2.   Create repository and keep it public profile\n",
        "3.   upload pynb file folder onto the repository\n",
        "4.   Copy the URL \n",
        "5.   open LetsUpgrade sent URL , fill the email id, phone number, Registered email id and copy paste the URL.\n",
        " \n",
        "\n",
        "\n",
        "\n",
        "\n",
        "\n",
        "\n"
      ]
    }
  ]
}
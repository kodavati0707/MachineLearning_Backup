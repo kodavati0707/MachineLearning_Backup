{
  "nbformat": 4,
  "nbformat_minor": 0,
  "metadata": {
    "colab": {
      "name": "Day 04.ipynb",
      "provenance": [],
      "collapsed_sections": []
    },
    "kernelspec": {
      "name": "python3",
      "display_name": "Python 3"
    }
  },
  "cells": [
    {
      "cell_type": "code",
      "metadata": {
        "id": "3KNOB4Eu2OVa",
        "colab_type": "code",
        "colab": {
          "base_uri": "https://localhost:8080/",
          "height": 34
        },
        "outputId": "cf612f94-8fb3-4d7e-a68c-a2928ab63aba"
      },
      "source": [
        "#Research on whether addition, subtraction, multiplication, division, floor division and modulo operations be performed on complex numbers. \n",
        "#Based on your study, implement a Python program to demonstrate these operations.\n",
        "\n",
        "x = 3+4j\n",
        "y = 2+5j\n",
        "print(x+y)"
      ],
      "execution_count": 1,
      "outputs": [
        {
          "output_type": "stream",
          "text": [
            "(5+9j)\n"
          ],
          "name": "stdout"
        }
      ]
    },
    {
      "cell_type": "code",
      "metadata": {
        "id": "Z8qFVC4r2fpu",
        "colab_type": "code",
        "colab": {
          "base_uri": "https://localhost:8080/",
          "height": 34
        },
        "outputId": "dcab278c-1c9e-4566-98db-2a6484562c12"
      },
      "source": [
        "print(x-y)"
      ],
      "execution_count": 2,
      "outputs": [
        {
          "output_type": "stream",
          "text": [
            "(1-1j)\n"
          ],
          "name": "stdout"
        }
      ]
    },
    {
      "cell_type": "code",
      "metadata": {
        "id": "nYcm9j5N2gz7",
        "colab_type": "code",
        "colab": {
          "base_uri": "https://localhost:8080/",
          "height": 34
        },
        "outputId": "0e4b586c-f544-49df-adb2-d29105de26cb"
      },
      "source": [
        "print(x/y)"
      ],
      "execution_count": 3,
      "outputs": [
        {
          "output_type": "stream",
          "text": [
            "(0.896551724137931-0.24137931034482757j)\n"
          ],
          "name": "stdout"
        }
      ]
    },
    {
      "cell_type": "code",
      "metadata": {
        "id": "cQkv0UPL2iK6",
        "colab_type": "code",
        "colab": {
          "base_uri": "https://localhost:8080/",
          "height": 34
        },
        "outputId": "f6218705-df81-4cd2-b817-8c1da9903409"
      },
      "source": [
        "print(x*y)"
      ],
      "execution_count": 5,
      "outputs": [
        {
          "output_type": "stream",
          "text": [
            "(-14+23j)\n"
          ],
          "name": "stdout"
        }
      ]
    },
    {
      "cell_type": "code",
      "metadata": {
        "id": "Kx1LbvTx2kvG",
        "colab_type": "code",
        "colab": {}
      },
      "source": [
        "#print(x//y)\n",
        "\n",
        "#Python doesnt support floor division"
      ],
      "execution_count": 7,
      "outputs": []
    },
    {
      "cell_type": "code",
      "metadata": {
        "id": "sRH_mhhx3WzY",
        "colab_type": "code",
        "colab": {
          "base_uri": "https://localhost:8080/",
          "height": 163
        },
        "outputId": "890427b3-ee4b-4eb4-d294-4961d3c97370"
      },
      "source": [
        "print(x|y)\n",
        "print(x&y)\n",
        "#Python doesnt support floor division"
      ],
      "execution_count": 9,
      "outputs": [
        {
          "output_type": "error",
          "ename": "TypeError",
          "evalue": "ignored",
          "traceback": [
            "\u001b[0;31m---------------------------------------------------------------------------\u001b[0m",
            "\u001b[0;31mTypeError\u001b[0m                                 Traceback (most recent call last)",
            "\u001b[0;32m<ipython-input-9-008a629ae877>\u001b[0m in \u001b[0;36m<module>\u001b[0;34m()\u001b[0m\n\u001b[0;32m----> 1\u001b[0;31m \u001b[0mprint\u001b[0m\u001b[0;34m(\u001b[0m\u001b[0mx\u001b[0m\u001b[0;34m|\u001b[0m\u001b[0my\u001b[0m\u001b[0;34m)\u001b[0m\u001b[0;34m\u001b[0m\u001b[0;34m\u001b[0m\u001b[0m\n\u001b[0m",
            "\u001b[0;31mTypeError\u001b[0m: unsupported operand type(s) for |: 'complex' and 'complex'"
          ]
        }
      ]
    },
    {
      "cell_type": "code",
      "metadata": {
        "id": "gtU-2u3U3ZVp",
        "colab_type": "code",
        "colab": {}
      },
      "source": [
        "#Research on range() functions and its parameters. Create a markdown cell and write in your own\n",
        "#words (no copy-paste from google please) what you understand about it. Implement a small\n",
        "#program of your choice on the same."
      ],
      "execution_count": 11,
      "outputs": []
    },
    {
      "cell_type": "code",
      "metadata": {
        "id": "_GVVAmEe3pU4",
        "colab_type": "code",
        "colab": {}
      },
      "source": [
        ""
      ],
      "execution_count": null,
      "outputs": []
    },
    {
      "cell_type": "markdown",
      "metadata": {
        "id": "yD0G9e-23uM3",
        "colab_type": "text"
      },
      "source": [
        "Range () need need start and stop point\n",
        "\n",
        "Range() can have start and stop and incremental number\n",
        "\n",
        "For Range() start number should be lesser than stop number\n",
        "\n",
        "For Range() start will be considered and End number not be considered as python start with 0 index"
      ]
    },
    {
      "cell_type": "code",
      "metadata": {
        "id": "xEdqvmYT33LK",
        "colab_type": "code",
        "colab": {
          "base_uri": "https://localhost:8080/",
          "height": 187
        },
        "outputId": "dba9748b-466a-4e54-bb9d-f0796fed34b9"
      },
      "source": [
        "for i in range(0,10):\n",
        "  print(i)\n"
      ],
      "execution_count": 16,
      "outputs": [
        {
          "output_type": "stream",
          "text": [
            "0\n",
            "1\n",
            "2\n",
            "3\n",
            "4\n",
            "5\n",
            "6\n",
            "7\n",
            "8\n",
            "9\n"
          ],
          "name": "stdout"
        }
      ]
    },
    {
      "cell_type": "code",
      "metadata": {
        "id": "SzzwCBB04Fkh",
        "colab_type": "code",
        "colab": {
          "base_uri": "https://localhost:8080/",
          "height": 102
        },
        "outputId": "aa376d3b-cbd1-4d1c-8d73-dd1a28d885ca"
      },
      "source": [
        "for i in range(0,10,2):\n",
        "  print(i)\n"
      ],
      "execution_count": 18,
      "outputs": [
        {
          "output_type": "stream",
          "text": [
            "0\n",
            "2\n",
            "4\n",
            "6\n",
            "8\n"
          ],
          "name": "stdout"
        }
      ]
    },
    {
      "cell_type": "code",
      "metadata": {
        "id": "DVG8PrTX4IUv",
        "colab_type": "code",
        "colab": {
          "base_uri": "https://localhost:8080/",
          "height": 85
        },
        "outputId": "77a7af1d-f502-4bee-f001-c44137b1f720"
      },
      "source": [
        "for i in range(12,20,2):\n",
        "  print(i)"
      ],
      "execution_count": 22,
      "outputs": [
        {
          "output_type": "stream",
          "text": [
            "12\n",
            "14\n",
            "16\n",
            "18\n"
          ],
          "name": "stdout"
        }
      ]
    },
    {
      "cell_type": "code",
      "metadata": {
        "id": "kpEAwZ_x4jZn",
        "colab_type": "code",
        "colab": {
          "base_uri": "https://localhost:8080/",
          "height": 34
        },
        "outputId": "ba439c5a-8919-4894-c744-3b5aee7cd801"
      },
      "source": [
        "#Consider two numbers. Perform their subtraction and if the result of subtraction is greater than\n",
        "#25, print their multiplication result else print their division result.\n",
        "\n",
        "\n",
        "x =10\n",
        "y= 12\n",
        "z =x -y\n",
        "if z >25:\n",
        "  print(x*y, \"As the result is greater than 25 it is multiplied with:\",x, \"and\" ,y)\n",
        "else:\n",
        "  print(x/y,\",As the result is not greater than 25 it is divided :\",x, \"and\" ,y)"
      ],
      "execution_count": 32,
      "outputs": [
        {
          "output_type": "stream",
          "text": [
            "0.8333333333333334 ,As the result is not greater than 25 it is divided : 10 and 12\n"
          ],
          "name": "stdout"
        }
      ]
    },
    {
      "cell_type": "code",
      "metadata": {
        "id": "F3pod9SF5YpM",
        "colab_type": "code",
        "colab": {
          "base_uri": "https://localhost:8080/",
          "height": 102
        },
        "outputId": "af929a15-c68e-45a4-b5ab-32f889ee051c"
      },
      "source": [
        "#Consider a list of 10 elements of integer values. If the number in the list is divisible by 2, print the result as \"square of that number minus 2\"\n",
        "\n",
        "mylist = [2,3,4,21,32,43,5,77,344,332]\n",
        "for i in mylist:\n",
        "  if i%2==0:\n",
        "    print(\"As the\",i,\"is divisble by 2, we have square of that number minus 2 so final result is\",(i**2)-2)"
      ],
      "execution_count": 37,
      "outputs": [
        {
          "output_type": "stream",
          "text": [
            "As the 2 is divisble by 2, we have square of that number minus 2 so final result is 2\n",
            "As the 4 is divisble by 2, we have square of that number minus 2 so final result is 14\n",
            "As the 32 is divisble by 2, we have square of that number minus 2 so final result is 1022\n",
            "As the 344 is divisble by 2, we have square of that number minus 2 so final result is 118334\n",
            "As the 332 is divisble by 2, we have square of that number minus 2 so final result is 110222\n"
          ],
          "name": "stdout"
        }
      ]
    },
    {
      "cell_type": "code",
      "metadata": {
        "id": "P3-4f_W26ATn",
        "colab_type": "code",
        "colab": {
          "base_uri": "https://localhost:8080/",
          "height": 51
        },
        "outputId": "da3a783a-00b3-4752-9cd5-7b77fe6a4af6"
      },
      "source": [
        "#Consider a list of 10 elements. Print all the elements in the list which are greater than 7 when that number is divided 2.\n",
        "\n",
        "mylist2 = [2,35,1,14,23,70,45,567,411,3467]\n",
        "for i in mylist2:\n",
        "  if i >7 and i%2==0:\n",
        "    print(i)"
      ],
      "execution_count": 47,
      "outputs": [
        {
          "output_type": "stream",
          "text": [
            "14\n",
            "70\n"
          ],
          "name": "stdout"
        }
      ]
    }
  ]
}
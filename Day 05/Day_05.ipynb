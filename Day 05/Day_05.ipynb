{
  "nbformat": 4,
  "nbformat_minor": 0,
  "metadata": {
    "colab": {
      "name": "Day 05.ipynb",
      "provenance": [],
      "collapsed_sections": []
    },
    "kernelspec": {
      "name": "python3",
      "display_name": "Python 3"
    }
  },
  "cells": [
    {
      "cell_type": "code",
      "metadata": {
        "id": "S1HcqVgLwq2o",
        "colab_type": "code",
        "colab": {
          "base_uri": "https://localhost:8080/",
          "height": 221
        },
        "outputId": "0d98cc81-3b7a-499b-bb40-8a44265baa8e"
      },
      "source": [
        "#Write a Python program to find the first 20 non-even prime natural numbers.\n",
        "for i in range(1,21):  \n",
        "  if i%2 !=0 and i/i != 0:\n",
        "    print(i)\n",
        "print(\"\\n\")"
      ],
      "execution_count": 17,
      "outputs": [
        {
          "output_type": "stream",
          "text": [
            "1\n",
            "3\n",
            "5\n",
            "7\n",
            "9\n",
            "11\n",
            "13\n",
            "15\n",
            "17\n",
            "19\n",
            "\n",
            "\n"
          ],
          "name": "stdout"
        }
      ]
    },
    {
      "cell_type": "code",
      "metadata": {
        "id": "8DIP1_7ayoOB",
        "colab_type": "code",
        "colab": {
          "base_uri": "https://localhost:8080/",
          "height": 306
        },
        "outputId": "e49b253a-9595-4567-a449-4bdb9ddb836d"
      },
      "source": [
        "#Write a Python program to implement 15 functions of string\n",
        "\n",
        "mystr= \"Hello World\"\n",
        "print(mystr.upper())\n",
        "print(mystr.lower())\n",
        "print(mystr.find(\"He\"))\n",
        "print(mystr.find(\"H\",1))\n",
        "print(mystr.endswith(\"d\"))\n",
        "print(mystr.isalnum())\n",
        "print(mystr.isalpha())\n",
        "print(mystr.isdigit())\n",
        "print(mystr.islower())\n",
        "print(mystr.isupper())\n",
        "print(\" \".join(mystr))\n",
        "print(\"      LetsUpgrade\".lstrip())\n",
        "print(\"      LetsUpgrade        \".rstrip())\n",
        "print(\"Hello World\".replace(\"World\",\"LetsUprade\"))\n",
        "print(\"Hello World\".split(\" \"))"
      ],
      "execution_count": 59,
      "outputs": [
        {
          "output_type": "stream",
          "text": [
            "HELLO WORLD\n",
            "hello world\n",
            "0\n",
            "-1\n",
            "True\n",
            "False\n",
            "False\n",
            "False\n",
            "False\n",
            "False\n",
            "H e l l o   W o r l d\n",
            "LetsUpgrade\n",
            "      LetsUpgrade\n",
            "Hello LetsUprade\n",
            "['Hello', 'World']\n",
            "['H', 'e', 'l', 'l', 'o']\n",
            "['H', 'e', 'l', 'l', 'o']\n"
          ],
          "name": "stdout"
        }
      ]
    },
    {
      "cell_type": "code",
      "metadata": {
        "id": "VwqHpabx1Os4",
        "colab_type": "code",
        "colab": {
          "base_uri": "https://localhost:8080/",
          "height": 68
        },
        "outputId": "e06f90cf-294f-4d0d-858a-36c0ff74b16c"
      },
      "source": [
        "#Write a Python program to check if the given string is a Palindrome or Anagram or None of them. Display the message accordingly to the user.\n",
        "\n",
        "myString1 = str(input(\"Please enter string 1:\"))\n",
        "myString2 = str(input(\"Please enter string 2 :\"))\n",
        "myString1 = myString1.upper()\n",
        "myString2 = myString2.upper()\n",
        "if myString1[0:] == myString1[::-1]:\n",
        "  print('It is a Palindrome')\n",
        "elif sorted(myString1) == sorted(myString2):\n",
        "  print('It is a Anagram')\n",
        "else:\n",
        "  print(\"None of them\")"
      ],
      "execution_count": 72,
      "outputs": [
        {
          "output_type": "stream",
          "text": [
            "Please enter string 1:Mom\n",
            "Please enter string 2 :MoM\n",
            "It is a Palindrome\n"
          ],
          "name": "stdout"
        }
      ]
    },
    {
      "cell_type": "code",
      "metadata": {
        "id": "13WTZsM91iA0",
        "colab_type": "code",
        "colab": {
          "base_uri": "https://localhost:8080/",
          "height": 34
        },
        "outputId": "030d0998-c004-4645-a66c-de747f5da908"
      },
      "source": [
        "#Write a Python's user defined function that removes all the additional characters from the string\n",
        "#and converts it finally to lower case using built-in lower(). eg: If the string is \"Dr. Darshan Ingle @AI-ML Trainer\", then the output be \"drdarshaningleaimltrainer\".\n",
        "def Remove_Chars(str):\n",
        "  replace_lttr = [';', ':', '!', \"*\",\"@\",\"-\",\" \",\".\"]\n",
        "  for i in replace_lttr:\n",
        "    MyString =str.replace(i,'')\n",
        "print(MyString.lower())\n",
        "\n",
        "Remove_Chars(\"Dr. Darshan Ingle @AI-ML Trainer\")"
      ],
      "execution_count": 75,
      "outputs": [
        {
          "output_type": "stream",
          "text": [
            "drdarshaningleaimltrainer\n"
          ],
          "name": "stdout"
        }
      ]
    }
  ]
}
{
  "nbformat": 4,
  "nbformat_minor": 0,
  "metadata": {
    "colab": {
      "name": "Day 06.ipynb",
      "provenance": [],
      "collapsed_sections": []
    },
    "kernelspec": {
      "name": "python3",
      "display_name": "Python 3"
    }
  },
  "cells": [
    {
      "cell_type": "code",
      "metadata": {
        "id": "wKnlMFCRV7IF",
        "colab_type": "code",
        "colab": {
          "base_uri": "https://localhost:8080/",
          "height": 34
        },
        "outputId": "50b0b2eb-dbe0-49a6-9853-6a1f39de0f3b"
      },
      "source": [
        "#Assuming that we have some email addresses in the \"username@companyname.com\" format, please write program to print the company name of a given email address. Both user names and company names are composed of letters only.\n",
        "\n",
        "\n",
        "def CompanyName(str):\n",
        "  str= str.replace(\".com\",\"\")\n",
        "  l = str.split(\"@\")\n",
        "  cmpname = l[1]\n",
        "  return cmpname.upper()\n",
        "\n",
        "Company_name = CompanyName('Balaji@yahoo.com')\n",
        "print(Company_name)"
      ],
      "execution_count": 10,
      "outputs": [
        {
          "output_type": "stream",
          "text": [
            "YAHOO\n"
          ],
          "name": "stdout"
        }
      ]
    },
    {
      "cell_type": "code",
      "metadata": {
        "id": "YFkva1bYXFPm",
        "colab_type": "code",
        "colab": {
          "base_uri": "https://localhost:8080/",
          "height": 34
        },
        "outputId": "0aaaca63-0a78-4055-99b6-11f83c08af8f"
      },
      "source": [
        "#Write a program that accepts a comma-separated sequence of words as input and prints the words in a comma separated sequence after sorting them alphabetically.\n",
        "\n",
        "def custom_sorted(str):\n",
        "  str =str.sort()\n",
        "  return str\n",
        "\n",
        "Order = ['without','hello','bag','world']\n",
        "custom_sorted(Order)\n",
        "print(Order)"
      ],
      "execution_count": 22,
      "outputs": [
        {
          "output_type": "stream",
          "text": [
            "['bag', 'hello', 'without', 'world']\n"
          ],
          "name": "stdout"
        }
      ]
    },
    {
      "cell_type": "code",
      "metadata": {
        "id": "Yp7push_XsNo",
        "colab_type": "code",
        "colab": {
          "base_uri": "https://localhost:8080/",
          "height": 272
        },
        "outputId": "c5c53665-dfed-4449-fb00-83512344a8e2"
      },
      "source": [
        "#Create your own Jupyter Notebook for Sets\n",
        "\n",
        "import functools \n",
        "s1 = {1,2,3,3,4,4}\n",
        "s2 = {'A','B',3,4,6}\n",
        "\n",
        "s1.union(s2)\n",
        "print(s1)\n",
        "print(s1-s2)\n",
        "print(s2-s1)\n",
        "#s1.add(\"Hello\")\n",
        "s2.add(\"Welcome\")\n",
        "print(s1)\n",
        "print(s2)\n",
        "\n",
        "for i in s1:\n",
        "  print(i)\n",
        "\n",
        "s2.remove('A')\n",
        "print(s2)\n",
        "s2.add(\"A\")\n",
        "print(s2)\n",
        "\n",
        "print(list(filter(lambda x:x==2,s1)))\n",
        "print(list(map(lambda x:x+3 ,filter(lambda x:x==2,s1))))\n",
        "print(list(map(lambda x:x+3 ,filter(lambda x:x<=3,s1))))\n",
        "print(functools.reduce(lambda x,y:x+y,list(map(lambda x:x+3 ,filter(lambda x:x<=3,s1)))))"
      ],
      "execution_count": 62,
      "outputs": [
        {
          "output_type": "stream",
          "text": [
            "{1, 2, 3, 4}\n",
            "{1, 2}\n",
            "{'A', 'B', 6}\n",
            "{1, 2, 3, 4}\n",
            "{3, 4, 6, 'Welcome', 'B', 'A'}\n",
            "1\n",
            "2\n",
            "3\n",
            "4\n",
            "{3, 4, 6, 'Welcome', 'B'}\n",
            "{3, 4, 6, 'Welcome', 'B', 'A'}\n",
            "[2]\n",
            "[5]\n",
            "[4, 5, 6]\n",
            "15\n"
          ],
          "name": "stdout"
        }
      ]
    },
    {
      "cell_type": "code",
      "metadata": {
        "id": "wea0iMPxbX4G",
        "colab_type": "code",
        "colab": {
          "base_uri": "https://localhost:8080/",
          "height": 34
        },
        "outputId": "75e29dbf-5c42-4de8-9c65-27e2deeb58d5"
      },
      "source": [
        "#Given a list of n-1 numbers ranging from 1 to n, your task is to find the missing number. There are no duplicates.\n",
        "\n",
        "s1 = {1,2,4,6,3,7,8,1}\n",
        "s3 =set()\n",
        "for i in range(1,len(s1)+1):\n",
        "  l =i\n",
        "  s3.add(l)\n",
        "print(list(s3-s1))"
      ],
      "execution_count": 100,
      "outputs": [
        {
          "output_type": "stream",
          "text": [
            "[5]\n"
          ],
          "name": "stdout"
        }
      ]
    },
    {
      "cell_type": "code",
      "metadata": {
        "id": "SyHF9YV9hPZd",
        "colab_type": "code",
        "colab": {
          "base_uri": "https://localhost:8080/",
          "height": 34
        },
        "outputId": "ce1cb969-df6a-446a-a127-7c369ba9d369"
      },
      "source": [
        "#With a given list L, write a program to print this list L after removing all duplicate values with original order reserved.\n",
        "\n",
        "\n",
        "l = [12,24,35,24,88,120,155,88,120,155]\n",
        "myset = set()\n",
        "for i in l:\n",
        "  x = i\n",
        "  myset.add(i)\n",
        "newList = list(myset)\n",
        "newList.sort()\n",
        "print(newList)"
      ],
      "execution_count": 112,
      "outputs": [
        {
          "output_type": "stream",
          "text": [
            "[12, 24, 35, 88, 120, 155]\n"
          ],
          "name": "stdout"
        }
      ]
    }
  ]
}
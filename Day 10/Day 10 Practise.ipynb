{
 "cells": [
  {
   "cell_type": "code",
   "execution_count": 1,
   "metadata": {},
   "outputs": [
    {
     "name": "stderr",
     "output_type": "stream",
     "text": [
      "c:\\users\\kobalaji\\appdata\\local\\programs\\python\\python37-32\\lib\\importlib\\_bootstrap.py:219: RuntimeWarning: numpy.ufunc size changed, may indicate binary incompatibility. Expected 112 from C header, got 124 from PyObject\n",
      "  return f(*args, **kwds)\n"
     ]
    }
   ],
   "source": [
    "import pandas as pd\n",
    "import numpy as np\n",
    "import matplotlib.pyplot as plt\n",
    "\n",
    "\n",
    "%matplotlib inline"
   ]
  },
  {
   "cell_type": "code",
   "execution_count": 32,
   "metadata": {},
   "outputs": [],
   "source": [
    "General_data = pd.read_csv(\"C:/Users/kobalaji/Desktop/LetsUpgrade AI-ML/Day 07/general_data.csv\")"
   ]
  },
  {
   "cell_type": "code",
   "execution_count": 33,
   "metadata": {},
   "outputs": [
    {
     "data": {
      "text/html": [
       "<div>\n",
       "<style scoped>\n",
       "    .dataframe tbody tr th:only-of-type {\n",
       "        vertical-align: middle;\n",
       "    }\n",
       "\n",
       "    .dataframe tbody tr th {\n",
       "        vertical-align: top;\n",
       "    }\n",
       "\n",
       "    .dataframe thead th {\n",
       "        text-align: right;\n",
       "    }\n",
       "</style>\n",
       "<table border=\"1\" class=\"dataframe\">\n",
       "  <thead>\n",
       "    <tr style=\"text-align: right;\">\n",
       "      <th></th>\n",
       "      <th>Age</th>\n",
       "      <th>Attrition</th>\n",
       "      <th>BusinessTravel</th>\n",
       "      <th>Department</th>\n",
       "      <th>DistanceFromHome</th>\n",
       "      <th>Education</th>\n",
       "      <th>EducationField</th>\n",
       "      <th>EmployeeCount</th>\n",
       "      <th>EmployeeID</th>\n",
       "      <th>Gender</th>\n",
       "      <th>...</th>\n",
       "      <th>NumCompaniesWorked</th>\n",
       "      <th>Over18</th>\n",
       "      <th>PercentSalaryHike</th>\n",
       "      <th>StandardHours</th>\n",
       "      <th>StockOptionLevel</th>\n",
       "      <th>TotalWorkingYears</th>\n",
       "      <th>TrainingTimesLastYear</th>\n",
       "      <th>YearsAtCompany</th>\n",
       "      <th>YearsSinceLastPromotion</th>\n",
       "      <th>YearsWithCurrManager</th>\n",
       "    </tr>\n",
       "  </thead>\n",
       "  <tbody>\n",
       "    <tr>\n",
       "      <th>0</th>\n",
       "      <td>51</td>\n",
       "      <td>No</td>\n",
       "      <td>Travel_Rarely</td>\n",
       "      <td>Sales</td>\n",
       "      <td>6</td>\n",
       "      <td>2</td>\n",
       "      <td>Life Sciences</td>\n",
       "      <td>1</td>\n",
       "      <td>1</td>\n",
       "      <td>Female</td>\n",
       "      <td>...</td>\n",
       "      <td>1.0</td>\n",
       "      <td>Y</td>\n",
       "      <td>11</td>\n",
       "      <td>8</td>\n",
       "      <td>0</td>\n",
       "      <td>1.0</td>\n",
       "      <td>6</td>\n",
       "      <td>1</td>\n",
       "      <td>0</td>\n",
       "      <td>0</td>\n",
       "    </tr>\n",
       "    <tr>\n",
       "      <th>1</th>\n",
       "      <td>31</td>\n",
       "      <td>Yes</td>\n",
       "      <td>Travel_Frequently</td>\n",
       "      <td>Research &amp; Development</td>\n",
       "      <td>10</td>\n",
       "      <td>1</td>\n",
       "      <td>Life Sciences</td>\n",
       "      <td>1</td>\n",
       "      <td>2</td>\n",
       "      <td>Female</td>\n",
       "      <td>...</td>\n",
       "      <td>0.0</td>\n",
       "      <td>Y</td>\n",
       "      <td>23</td>\n",
       "      <td>8</td>\n",
       "      <td>1</td>\n",
       "      <td>6.0</td>\n",
       "      <td>3</td>\n",
       "      <td>5</td>\n",
       "      <td>1</td>\n",
       "      <td>4</td>\n",
       "    </tr>\n",
       "    <tr>\n",
       "      <th>2</th>\n",
       "      <td>32</td>\n",
       "      <td>No</td>\n",
       "      <td>Travel_Frequently</td>\n",
       "      <td>Research &amp; Development</td>\n",
       "      <td>17</td>\n",
       "      <td>4</td>\n",
       "      <td>Other</td>\n",
       "      <td>1</td>\n",
       "      <td>3</td>\n",
       "      <td>Male</td>\n",
       "      <td>...</td>\n",
       "      <td>1.0</td>\n",
       "      <td>Y</td>\n",
       "      <td>15</td>\n",
       "      <td>8</td>\n",
       "      <td>3</td>\n",
       "      <td>5.0</td>\n",
       "      <td>2</td>\n",
       "      <td>5</td>\n",
       "      <td>0</td>\n",
       "      <td>3</td>\n",
       "    </tr>\n",
       "    <tr>\n",
       "      <th>3</th>\n",
       "      <td>38</td>\n",
       "      <td>No</td>\n",
       "      <td>Non-Travel</td>\n",
       "      <td>Research &amp; Development</td>\n",
       "      <td>2</td>\n",
       "      <td>5</td>\n",
       "      <td>Life Sciences</td>\n",
       "      <td>1</td>\n",
       "      <td>4</td>\n",
       "      <td>Male</td>\n",
       "      <td>...</td>\n",
       "      <td>3.0</td>\n",
       "      <td>Y</td>\n",
       "      <td>11</td>\n",
       "      <td>8</td>\n",
       "      <td>3</td>\n",
       "      <td>13.0</td>\n",
       "      <td>5</td>\n",
       "      <td>8</td>\n",
       "      <td>7</td>\n",
       "      <td>5</td>\n",
       "    </tr>\n",
       "    <tr>\n",
       "      <th>4</th>\n",
       "      <td>32</td>\n",
       "      <td>No</td>\n",
       "      <td>Travel_Rarely</td>\n",
       "      <td>Research &amp; Development</td>\n",
       "      <td>10</td>\n",
       "      <td>1</td>\n",
       "      <td>Medical</td>\n",
       "      <td>1</td>\n",
       "      <td>5</td>\n",
       "      <td>Male</td>\n",
       "      <td>...</td>\n",
       "      <td>4.0</td>\n",
       "      <td>Y</td>\n",
       "      <td>12</td>\n",
       "      <td>8</td>\n",
       "      <td>2</td>\n",
       "      <td>9.0</td>\n",
       "      <td>2</td>\n",
       "      <td>6</td>\n",
       "      <td>0</td>\n",
       "      <td>4</td>\n",
       "    </tr>\n",
       "    <tr>\n",
       "      <th>...</th>\n",
       "      <td>...</td>\n",
       "      <td>...</td>\n",
       "      <td>...</td>\n",
       "      <td>...</td>\n",
       "      <td>...</td>\n",
       "      <td>...</td>\n",
       "      <td>...</td>\n",
       "      <td>...</td>\n",
       "      <td>...</td>\n",
       "      <td>...</td>\n",
       "      <td>...</td>\n",
       "      <td>...</td>\n",
       "      <td>...</td>\n",
       "      <td>...</td>\n",
       "      <td>...</td>\n",
       "      <td>...</td>\n",
       "      <td>...</td>\n",
       "      <td>...</td>\n",
       "      <td>...</td>\n",
       "      <td>...</td>\n",
       "      <td>...</td>\n",
       "    </tr>\n",
       "    <tr>\n",
       "      <th>4405</th>\n",
       "      <td>42</td>\n",
       "      <td>No</td>\n",
       "      <td>Travel_Rarely</td>\n",
       "      <td>Research &amp; Development</td>\n",
       "      <td>5</td>\n",
       "      <td>4</td>\n",
       "      <td>Medical</td>\n",
       "      <td>1</td>\n",
       "      <td>4406</td>\n",
       "      <td>Female</td>\n",
       "      <td>...</td>\n",
       "      <td>3.0</td>\n",
       "      <td>Y</td>\n",
       "      <td>17</td>\n",
       "      <td>8</td>\n",
       "      <td>1</td>\n",
       "      <td>10.0</td>\n",
       "      <td>5</td>\n",
       "      <td>3</td>\n",
       "      <td>0</td>\n",
       "      <td>2</td>\n",
       "    </tr>\n",
       "    <tr>\n",
       "      <th>4406</th>\n",
       "      <td>29</td>\n",
       "      <td>No</td>\n",
       "      <td>Travel_Rarely</td>\n",
       "      <td>Research &amp; Development</td>\n",
       "      <td>2</td>\n",
       "      <td>4</td>\n",
       "      <td>Medical</td>\n",
       "      <td>1</td>\n",
       "      <td>4407</td>\n",
       "      <td>Male</td>\n",
       "      <td>...</td>\n",
       "      <td>2.0</td>\n",
       "      <td>Y</td>\n",
       "      <td>15</td>\n",
       "      <td>8</td>\n",
       "      <td>0</td>\n",
       "      <td>10.0</td>\n",
       "      <td>2</td>\n",
       "      <td>3</td>\n",
       "      <td>0</td>\n",
       "      <td>2</td>\n",
       "    </tr>\n",
       "    <tr>\n",
       "      <th>4407</th>\n",
       "      <td>25</td>\n",
       "      <td>No</td>\n",
       "      <td>Travel_Rarely</td>\n",
       "      <td>Research &amp; Development</td>\n",
       "      <td>25</td>\n",
       "      <td>2</td>\n",
       "      <td>Life Sciences</td>\n",
       "      <td>1</td>\n",
       "      <td>4408</td>\n",
       "      <td>Male</td>\n",
       "      <td>...</td>\n",
       "      <td>0.0</td>\n",
       "      <td>Y</td>\n",
       "      <td>20</td>\n",
       "      <td>8</td>\n",
       "      <td>0</td>\n",
       "      <td>5.0</td>\n",
       "      <td>4</td>\n",
       "      <td>4</td>\n",
       "      <td>1</td>\n",
       "      <td>2</td>\n",
       "    </tr>\n",
       "    <tr>\n",
       "      <th>4408</th>\n",
       "      <td>42</td>\n",
       "      <td>No</td>\n",
       "      <td>Travel_Rarely</td>\n",
       "      <td>Sales</td>\n",
       "      <td>18</td>\n",
       "      <td>2</td>\n",
       "      <td>Medical</td>\n",
       "      <td>1</td>\n",
       "      <td>4409</td>\n",
       "      <td>Male</td>\n",
       "      <td>...</td>\n",
       "      <td>0.0</td>\n",
       "      <td>Y</td>\n",
       "      <td>14</td>\n",
       "      <td>8</td>\n",
       "      <td>1</td>\n",
       "      <td>10.0</td>\n",
       "      <td>2</td>\n",
       "      <td>9</td>\n",
       "      <td>7</td>\n",
       "      <td>8</td>\n",
       "    </tr>\n",
       "    <tr>\n",
       "      <th>4409</th>\n",
       "      <td>40</td>\n",
       "      <td>No</td>\n",
       "      <td>Travel_Rarely</td>\n",
       "      <td>Research &amp; Development</td>\n",
       "      <td>28</td>\n",
       "      <td>3</td>\n",
       "      <td>Medical</td>\n",
       "      <td>1</td>\n",
       "      <td>4410</td>\n",
       "      <td>Male</td>\n",
       "      <td>...</td>\n",
       "      <td>0.0</td>\n",
       "      <td>Y</td>\n",
       "      <td>12</td>\n",
       "      <td>8</td>\n",
       "      <td>0</td>\n",
       "      <td>NaN</td>\n",
       "      <td>6</td>\n",
       "      <td>21</td>\n",
       "      <td>3</td>\n",
       "      <td>9</td>\n",
       "    </tr>\n",
       "  </tbody>\n",
       "</table>\n",
       "<p>4410 rows × 24 columns</p>\n",
       "</div>"
      ],
      "text/plain": [
       "      Age Attrition     BusinessTravel              Department  \\\n",
       "0      51        No      Travel_Rarely                   Sales   \n",
       "1      31       Yes  Travel_Frequently  Research & Development   \n",
       "2      32        No  Travel_Frequently  Research & Development   \n",
       "3      38        No         Non-Travel  Research & Development   \n",
       "4      32        No      Travel_Rarely  Research & Development   \n",
       "...   ...       ...                ...                     ...   \n",
       "4405   42        No      Travel_Rarely  Research & Development   \n",
       "4406   29        No      Travel_Rarely  Research & Development   \n",
       "4407   25        No      Travel_Rarely  Research & Development   \n",
       "4408   42        No      Travel_Rarely                   Sales   \n",
       "4409   40        No      Travel_Rarely  Research & Development   \n",
       "\n",
       "      DistanceFromHome  Education EducationField  EmployeeCount  EmployeeID  \\\n",
       "0                    6          2  Life Sciences              1           1   \n",
       "1                   10          1  Life Sciences              1           2   \n",
       "2                   17          4          Other              1           3   \n",
       "3                    2          5  Life Sciences              1           4   \n",
       "4                   10          1        Medical              1           5   \n",
       "...                ...        ...            ...            ...         ...   \n",
       "4405                 5          4        Medical              1        4406   \n",
       "4406                 2          4        Medical              1        4407   \n",
       "4407                25          2  Life Sciences              1        4408   \n",
       "4408                18          2        Medical              1        4409   \n",
       "4409                28          3        Medical              1        4410   \n",
       "\n",
       "      Gender  ...  NumCompaniesWorked Over18 PercentSalaryHike  StandardHours  \\\n",
       "0     Female  ...                 1.0      Y                11              8   \n",
       "1     Female  ...                 0.0      Y                23              8   \n",
       "2       Male  ...                 1.0      Y                15              8   \n",
       "3       Male  ...                 3.0      Y                11              8   \n",
       "4       Male  ...                 4.0      Y                12              8   \n",
       "...      ...  ...                 ...    ...               ...            ...   \n",
       "4405  Female  ...                 3.0      Y                17              8   \n",
       "4406    Male  ...                 2.0      Y                15              8   \n",
       "4407    Male  ...                 0.0      Y                20              8   \n",
       "4408    Male  ...                 0.0      Y                14              8   \n",
       "4409    Male  ...                 0.0      Y                12              8   \n",
       "\n",
       "      StockOptionLevel TotalWorkingYears  TrainingTimesLastYear  \\\n",
       "0                    0               1.0                      6   \n",
       "1                    1               6.0                      3   \n",
       "2                    3               5.0                      2   \n",
       "3                    3              13.0                      5   \n",
       "4                    2               9.0                      2   \n",
       "...                ...               ...                    ...   \n",
       "4405                 1              10.0                      5   \n",
       "4406                 0              10.0                      2   \n",
       "4407                 0               5.0                      4   \n",
       "4408                 1              10.0                      2   \n",
       "4409                 0               NaN                      6   \n",
       "\n",
       "      YearsAtCompany  YearsSinceLastPromotion  YearsWithCurrManager  \n",
       "0                  1                        0                     0  \n",
       "1                  5                        1                     4  \n",
       "2                  5                        0                     3  \n",
       "3                  8                        7                     5  \n",
       "4                  6                        0                     4  \n",
       "...              ...                      ...                   ...  \n",
       "4405               3                        0                     2  \n",
       "4406               3                        0                     2  \n",
       "4407               4                        1                     2  \n",
       "4408               9                        7                     8  \n",
       "4409              21                        3                     9  \n",
       "\n",
       "[4410 rows x 24 columns]"
      ]
     },
     "execution_count": 33,
     "metadata": {},
     "output_type": "execute_result"
    }
   ],
   "source": [
    "General_data"
   ]
  },
  {
   "cell_type": "code",
   "execution_count": 34,
   "metadata": {},
   "outputs": [],
   "source": [
    "MasterData_Yes = General_data[General_data['Attrition']=='Yes']"
   ]
  },
  {
   "cell_type": "code",
   "execution_count": 35,
   "metadata": {},
   "outputs": [
    {
     "data": {
      "text/html": [
       "<div>\n",
       "<style scoped>\n",
       "    .dataframe tbody tr th:only-of-type {\n",
       "        vertical-align: middle;\n",
       "    }\n",
       "\n",
       "    .dataframe tbody tr th {\n",
       "        vertical-align: top;\n",
       "    }\n",
       "\n",
       "    .dataframe thead th {\n",
       "        text-align: right;\n",
       "    }\n",
       "</style>\n",
       "<table border=\"1\" class=\"dataframe\">\n",
       "  <thead>\n",
       "    <tr style=\"text-align: right;\">\n",
       "      <th></th>\n",
       "      <th>Age</th>\n",
       "      <th>Attrition</th>\n",
       "      <th>BusinessTravel</th>\n",
       "      <th>Department</th>\n",
       "      <th>DistanceFromHome</th>\n",
       "      <th>Education</th>\n",
       "      <th>EducationField</th>\n",
       "      <th>EmployeeCount</th>\n",
       "      <th>EmployeeID</th>\n",
       "      <th>Gender</th>\n",
       "      <th>...</th>\n",
       "      <th>NumCompaniesWorked</th>\n",
       "      <th>Over18</th>\n",
       "      <th>PercentSalaryHike</th>\n",
       "      <th>StandardHours</th>\n",
       "      <th>StockOptionLevel</th>\n",
       "      <th>TotalWorkingYears</th>\n",
       "      <th>TrainingTimesLastYear</th>\n",
       "      <th>YearsAtCompany</th>\n",
       "      <th>YearsSinceLastPromotion</th>\n",
       "      <th>YearsWithCurrManager</th>\n",
       "    </tr>\n",
       "  </thead>\n",
       "  <tbody>\n",
       "    <tr>\n",
       "      <th>1</th>\n",
       "      <td>31</td>\n",
       "      <td>Yes</td>\n",
       "      <td>Travel_Frequently</td>\n",
       "      <td>Research &amp; Development</td>\n",
       "      <td>10</td>\n",
       "      <td>1</td>\n",
       "      <td>Life Sciences</td>\n",
       "      <td>1</td>\n",
       "      <td>2</td>\n",
       "      <td>Female</td>\n",
       "      <td>...</td>\n",
       "      <td>0.0</td>\n",
       "      <td>Y</td>\n",
       "      <td>23</td>\n",
       "      <td>8</td>\n",
       "      <td>1</td>\n",
       "      <td>6.0</td>\n",
       "      <td>3</td>\n",
       "      <td>5</td>\n",
       "      <td>1</td>\n",
       "      <td>4</td>\n",
       "    </tr>\n",
       "    <tr>\n",
       "      <th>6</th>\n",
       "      <td>28</td>\n",
       "      <td>Yes</td>\n",
       "      <td>Travel_Rarely</td>\n",
       "      <td>Research &amp; Development</td>\n",
       "      <td>11</td>\n",
       "      <td>2</td>\n",
       "      <td>Medical</td>\n",
       "      <td>1</td>\n",
       "      <td>7</td>\n",
       "      <td>Male</td>\n",
       "      <td>...</td>\n",
       "      <td>2.0</td>\n",
       "      <td>Y</td>\n",
       "      <td>20</td>\n",
       "      <td>8</td>\n",
       "      <td>1</td>\n",
       "      <td>5.0</td>\n",
       "      <td>2</td>\n",
       "      <td>0</td>\n",
       "      <td>0</td>\n",
       "      <td>0</td>\n",
       "    </tr>\n",
       "    <tr>\n",
       "      <th>13</th>\n",
       "      <td>47</td>\n",
       "      <td>Yes</td>\n",
       "      <td>Non-Travel</td>\n",
       "      <td>Research &amp; Development</td>\n",
       "      <td>1</td>\n",
       "      <td>1</td>\n",
       "      <td>Medical</td>\n",
       "      <td>1</td>\n",
       "      <td>14</td>\n",
       "      <td>Male</td>\n",
       "      <td>...</td>\n",
       "      <td>1.0</td>\n",
       "      <td>Y</td>\n",
       "      <td>11</td>\n",
       "      <td>8</td>\n",
       "      <td>2</td>\n",
       "      <td>10.0</td>\n",
       "      <td>4</td>\n",
       "      <td>10</td>\n",
       "      <td>9</td>\n",
       "      <td>9</td>\n",
       "    </tr>\n",
       "    <tr>\n",
       "      <th>28</th>\n",
       "      <td>44</td>\n",
       "      <td>Yes</td>\n",
       "      <td>Travel_Frequently</td>\n",
       "      <td>Research &amp; Development</td>\n",
       "      <td>1</td>\n",
       "      <td>2</td>\n",
       "      <td>Medical</td>\n",
       "      <td>1</td>\n",
       "      <td>29</td>\n",
       "      <td>Male</td>\n",
       "      <td>...</td>\n",
       "      <td>3.0</td>\n",
       "      <td>Y</td>\n",
       "      <td>14</td>\n",
       "      <td>8</td>\n",
       "      <td>1</td>\n",
       "      <td>19.0</td>\n",
       "      <td>2</td>\n",
       "      <td>1</td>\n",
       "      <td>0</td>\n",
       "      <td>0</td>\n",
       "    </tr>\n",
       "    <tr>\n",
       "      <th>30</th>\n",
       "      <td>26</td>\n",
       "      <td>Yes</td>\n",
       "      <td>Travel_Rarely</td>\n",
       "      <td>Research &amp; Development</td>\n",
       "      <td>4</td>\n",
       "      <td>3</td>\n",
       "      <td>Medical</td>\n",
       "      <td>1</td>\n",
       "      <td>31</td>\n",
       "      <td>Male</td>\n",
       "      <td>...</td>\n",
       "      <td>2.0</td>\n",
       "      <td>Y</td>\n",
       "      <td>11</td>\n",
       "      <td>8</td>\n",
       "      <td>0</td>\n",
       "      <td>5.0</td>\n",
       "      <td>5</td>\n",
       "      <td>3</td>\n",
       "      <td>0</td>\n",
       "      <td>2</td>\n",
       "    </tr>\n",
       "    <tr>\n",
       "      <th>...</th>\n",
       "      <td>...</td>\n",
       "      <td>...</td>\n",
       "      <td>...</td>\n",
       "      <td>...</td>\n",
       "      <td>...</td>\n",
       "      <td>...</td>\n",
       "      <td>...</td>\n",
       "      <td>...</td>\n",
       "      <td>...</td>\n",
       "      <td>...</td>\n",
       "      <td>...</td>\n",
       "      <td>...</td>\n",
       "      <td>...</td>\n",
       "      <td>...</td>\n",
       "      <td>...</td>\n",
       "      <td>...</td>\n",
       "      <td>...</td>\n",
       "      <td>...</td>\n",
       "      <td>...</td>\n",
       "      <td>...</td>\n",
       "      <td>...</td>\n",
       "    </tr>\n",
       "    <tr>\n",
       "      <th>4381</th>\n",
       "      <td>29</td>\n",
       "      <td>Yes</td>\n",
       "      <td>Travel_Rarely</td>\n",
       "      <td>Research &amp; Development</td>\n",
       "      <td>7</td>\n",
       "      <td>1</td>\n",
       "      <td>Life Sciences</td>\n",
       "      <td>1</td>\n",
       "      <td>4382</td>\n",
       "      <td>Female</td>\n",
       "      <td>...</td>\n",
       "      <td>1.0</td>\n",
       "      <td>Y</td>\n",
       "      <td>21</td>\n",
       "      <td>8</td>\n",
       "      <td>0</td>\n",
       "      <td>4.0</td>\n",
       "      <td>2</td>\n",
       "      <td>4</td>\n",
       "      <td>0</td>\n",
       "      <td>1</td>\n",
       "    </tr>\n",
       "    <tr>\n",
       "      <th>4386</th>\n",
       "      <td>33</td>\n",
       "      <td>Yes</td>\n",
       "      <td>Travel_Rarely</td>\n",
       "      <td>Sales</td>\n",
       "      <td>11</td>\n",
       "      <td>4</td>\n",
       "      <td>Marketing</td>\n",
       "      <td>1</td>\n",
       "      <td>4387</td>\n",
       "      <td>Male</td>\n",
       "      <td>...</td>\n",
       "      <td>5.0</td>\n",
       "      <td>Y</td>\n",
       "      <td>21</td>\n",
       "      <td>8</td>\n",
       "      <td>0</td>\n",
       "      <td>8.0</td>\n",
       "      <td>2</td>\n",
       "      <td>5</td>\n",
       "      <td>0</td>\n",
       "      <td>4</td>\n",
       "    </tr>\n",
       "    <tr>\n",
       "      <th>4388</th>\n",
       "      <td>33</td>\n",
       "      <td>Yes</td>\n",
       "      <td>Travel_Rarely</td>\n",
       "      <td>Sales</td>\n",
       "      <td>1</td>\n",
       "      <td>3</td>\n",
       "      <td>Life Sciences</td>\n",
       "      <td>1</td>\n",
       "      <td>4389</td>\n",
       "      <td>Male</td>\n",
       "      <td>...</td>\n",
       "      <td>7.0</td>\n",
       "      <td>Y</td>\n",
       "      <td>11</td>\n",
       "      <td>8</td>\n",
       "      <td>0</td>\n",
       "      <td>13.0</td>\n",
       "      <td>2</td>\n",
       "      <td>9</td>\n",
       "      <td>1</td>\n",
       "      <td>7</td>\n",
       "    </tr>\n",
       "    <tr>\n",
       "      <th>4391</th>\n",
       "      <td>32</td>\n",
       "      <td>Yes</td>\n",
       "      <td>Travel_Rarely</td>\n",
       "      <td>Sales</td>\n",
       "      <td>23</td>\n",
       "      <td>1</td>\n",
       "      <td>Life Sciences</td>\n",
       "      <td>1</td>\n",
       "      <td>4392</td>\n",
       "      <td>Male</td>\n",
       "      <td>...</td>\n",
       "      <td>0.0</td>\n",
       "      <td>Y</td>\n",
       "      <td>11</td>\n",
       "      <td>8</td>\n",
       "      <td>0</td>\n",
       "      <td>4.0</td>\n",
       "      <td>2</td>\n",
       "      <td>3</td>\n",
       "      <td>1</td>\n",
       "      <td>2</td>\n",
       "    </tr>\n",
       "    <tr>\n",
       "      <th>4402</th>\n",
       "      <td>37</td>\n",
       "      <td>Yes</td>\n",
       "      <td>Travel_Frequently</td>\n",
       "      <td>Sales</td>\n",
       "      <td>2</td>\n",
       "      <td>3</td>\n",
       "      <td>Marketing</td>\n",
       "      <td>1</td>\n",
       "      <td>4403</td>\n",
       "      <td>Male</td>\n",
       "      <td>...</td>\n",
       "      <td>6.0</td>\n",
       "      <td>Y</td>\n",
       "      <td>11</td>\n",
       "      <td>8</td>\n",
       "      <td>1</td>\n",
       "      <td>17.0</td>\n",
       "      <td>2</td>\n",
       "      <td>1</td>\n",
       "      <td>0</td>\n",
       "      <td>0</td>\n",
       "    </tr>\n",
       "  </tbody>\n",
       "</table>\n",
       "<p>711 rows × 24 columns</p>\n",
       "</div>"
      ],
      "text/plain": [
       "      Age Attrition     BusinessTravel              Department  \\\n",
       "1      31       Yes  Travel_Frequently  Research & Development   \n",
       "6      28       Yes      Travel_Rarely  Research & Development   \n",
       "13     47       Yes         Non-Travel  Research & Development   \n",
       "28     44       Yes  Travel_Frequently  Research & Development   \n",
       "30     26       Yes      Travel_Rarely  Research & Development   \n",
       "...   ...       ...                ...                     ...   \n",
       "4381   29       Yes      Travel_Rarely  Research & Development   \n",
       "4386   33       Yes      Travel_Rarely                   Sales   \n",
       "4388   33       Yes      Travel_Rarely                   Sales   \n",
       "4391   32       Yes      Travel_Rarely                   Sales   \n",
       "4402   37       Yes  Travel_Frequently                   Sales   \n",
       "\n",
       "      DistanceFromHome  Education EducationField  EmployeeCount  EmployeeID  \\\n",
       "1                   10          1  Life Sciences              1           2   \n",
       "6                   11          2        Medical              1           7   \n",
       "13                   1          1        Medical              1          14   \n",
       "28                   1          2        Medical              1          29   \n",
       "30                   4          3        Medical              1          31   \n",
       "...                ...        ...            ...            ...         ...   \n",
       "4381                 7          1  Life Sciences              1        4382   \n",
       "4386                11          4      Marketing              1        4387   \n",
       "4388                 1          3  Life Sciences              1        4389   \n",
       "4391                23          1  Life Sciences              1        4392   \n",
       "4402                 2          3      Marketing              1        4403   \n",
       "\n",
       "      Gender  ...  NumCompaniesWorked Over18 PercentSalaryHike  StandardHours  \\\n",
       "1     Female  ...                 0.0      Y                23              8   \n",
       "6       Male  ...                 2.0      Y                20              8   \n",
       "13      Male  ...                 1.0      Y                11              8   \n",
       "28      Male  ...                 3.0      Y                14              8   \n",
       "30      Male  ...                 2.0      Y                11              8   \n",
       "...      ...  ...                 ...    ...               ...            ...   \n",
       "4381  Female  ...                 1.0      Y                21              8   \n",
       "4386    Male  ...                 5.0      Y                21              8   \n",
       "4388    Male  ...                 7.0      Y                11              8   \n",
       "4391    Male  ...                 0.0      Y                11              8   \n",
       "4402    Male  ...                 6.0      Y                11              8   \n",
       "\n",
       "      StockOptionLevel TotalWorkingYears  TrainingTimesLastYear  \\\n",
       "1                    1               6.0                      3   \n",
       "6                    1               5.0                      2   \n",
       "13                   2              10.0                      4   \n",
       "28                   1              19.0                      2   \n",
       "30                   0               5.0                      5   \n",
       "...                ...               ...                    ...   \n",
       "4381                 0               4.0                      2   \n",
       "4386                 0               8.0                      2   \n",
       "4388                 0              13.0                      2   \n",
       "4391                 0               4.0                      2   \n",
       "4402                 1              17.0                      2   \n",
       "\n",
       "      YearsAtCompany  YearsSinceLastPromotion  YearsWithCurrManager  \n",
       "1                  5                        1                     4  \n",
       "6                  0                        0                     0  \n",
       "13                10                        9                     9  \n",
       "28                 1                        0                     0  \n",
       "30                 3                        0                     2  \n",
       "...              ...                      ...                   ...  \n",
       "4381               4                        0                     1  \n",
       "4386               5                        0                     4  \n",
       "4388               9                        1                     7  \n",
       "4391               3                        1                     2  \n",
       "4402               1                        0                     0  \n",
       "\n",
       "[711 rows x 24 columns]"
      ]
     },
     "execution_count": 35,
     "metadata": {},
     "output_type": "execute_result"
    }
   ],
   "source": [
    "MasterData_Yes"
   ]
  },
  {
   "cell_type": "markdown",
   "metadata": {},
   "source": [
    "# Hypothesis Testing\n",
    "\n",
    "Null Hypothesis Age <=30\n",
    "Alternate Hypothesis Age > 30"
   ]
  },
  {
   "cell_type": "code",
   "execution_count": 44,
   "metadata": {},
   "outputs": [],
   "source": [
    "Pop_Mean = MasterData_Yes['Age'].mean()\n",
    "Pop_Median = MasterData_Yes['Age'].median()\n",
    "Pop_std = MasterData_Yes['Age'].std()\n",
    "Pop = MasterData_Yes['Age'].count()"
   ]
  },
  {
   "cell_type": "code",
   "execution_count": 45,
   "metadata": {},
   "outputs": [
    {
     "name": "stdout",
     "output_type": "stream",
     "text": [
      "Pop_Mean: 33.607594936708864 \n",
      "Pop_Median: 32.0 \n",
      "Pop_std: 9.675693299564735 \n",
      "Pop: 711\n"
     ]
    }
   ],
   "source": [
    "print(\"Pop_Mean:\",Pop_Mean,\"\\nPop_Median:\",Pop_Median,\"\\nPop_std:\",Pop_std,\"\\nPop:\",Pop)"
   ]
  },
  {
   "cell_type": "code",
   "execution_count": 46,
   "metadata": {},
   "outputs": [
    {
     "data": {
      "text/plain": [
       "count    711.000000\n",
       "mean      33.607595\n",
       "std        9.675693\n",
       "min       18.000000\n",
       "25%       28.000000\n",
       "50%       32.000000\n",
       "75%       39.000000\n",
       "max       58.000000\n",
       "Name: Age, dtype: float64"
      ]
     },
     "execution_count": 46,
     "metadata": {},
     "output_type": "execute_result"
    }
   ],
   "source": [
    "MasterData_Yes['Age'].describe()"
   ]
  },
  {
   "cell_type": "code",
   "execution_count": 52,
   "metadata": {},
   "outputs": [
    {
     "data": {
      "text/plain": [
       "{'whiskers': [<matplotlib.lines.Line2D at 0x1b95a1f0>,\n",
       "  <matplotlib.lines.Line2D at 0x1b95a570>],\n",
       " 'caps': [<matplotlib.lines.Line2D at 0x1b95a7f0>,\n",
       "  <matplotlib.lines.Line2D at 0x1b95aa50>],\n",
       " 'boxes': [<matplotlib.lines.Line2D at 0x1b95a1d0>],\n",
       " 'medians': [<matplotlib.lines.Line2D at 0x1b95acb0>],\n",
       " 'fliers': [<matplotlib.lines.Line2D at 0x1b95af70>],\n",
       " 'means': []}"
      ]
     },
     "execution_count": 52,
     "metadata": {},
     "output_type": "execute_result"
    },
    {
     "data": {
      "image/png": "[encoded data removed]",
      "text/plain": [
       "<Figure size 432x288 with 1 Axes>"
      ]
     },
     "metadata": {
      "needs_background": "light"
     },
     "output_type": "display_data"
    }
   ],
   "source": [
    "plt.boxplot(MasterData_Yes.Age)"
   ]
  },
  {
   "cell_type": "code",
   "execution_count": 79,
   "metadata": {},
   "outputs": [
    {
     "data": {
      "text/plain": [
       "(array([ 66.,  66., 141., 150.,  93.,  57.,  36.,  33.,  36.,  33.]),\n",
       " array([18., 22., 26., 30., 34., 38., 42., 46., 50., 54., 58.]),\n",
       " <a list of 10 Patch objects>)"
      ]
     },
     "execution_count": 79,
     "metadata": {},
     "output_type": "execute_result"
    },
    {
     "data": {
      "image/png": "[encoded data removed]",
      "text/plain": [
       "<Figure size 432x288 with 1 Axes>"
      ]
     },
     "metadata": {
      "needs_background": "light"
     },
     "output_type": "display_data"
    }
   ],
   "source": [
    "plt.hist(MasterData_Yes.Age)"
   ]
  },
  {
   "cell_type": "code",
   "execution_count": 90,
   "metadata": {},
   "outputs": [],
   "source": [
    "Sample_Data = MasterData_Yes.sample(30)"
   ]
  },
  {
   "cell_type": "code",
   "execution_count": null,
   "metadata": {},
   "outputs": [],
   "source": [
    "Sample_Data['Age'].describe()"
   ]
  },
  {
   "cell_type": "code",
   "execution_count": 91,
   "metadata": {},
   "outputs": [
    {
     "data": {
      "text/plain": [
       "count    30.000000\n",
       "mean     31.400000\n",
       "std       6.946098\n",
       "min      19.000000\n",
       "25%      27.250000\n",
       "50%      32.500000\n",
       "75%      35.000000\n",
       "max      46.000000\n",
       "Name: Age, dtype: float64"
      ]
     },
     "execution_count": 91,
     "metadata": {},
     "output_type": "execute_result"
    }
   ],
   "source": [
    "Sample_Data['Age'].describe()"
   ]
  },
  {
   "cell_type": "code",
   "execution_count": 92,
   "metadata": {},
   "outputs": [
    {
     "data": {
      "text/plain": [
       "{'whiskers': [<matplotlib.lines.Line2D at 0x1ba99050>,\n",
       "  <matplotlib.lines.Line2D at 0x1ba99290>],\n",
       " 'caps': [<matplotlib.lines.Line2D at 0x1ba38f90>,\n",
       "  <matplotlib.lines.Line2D at 0x1ba92cb0>],\n",
       " 'boxes': [<matplotlib.lines.Line2D at 0x1ba92c90>],\n",
       " 'medians': [<matplotlib.lines.Line2D at 0x1ba999d0>],\n",
       " 'fliers': [<matplotlib.lines.Line2D at 0x1ba99bf0>],\n",
       " 'means': []}"
      ]
     },
     "execution_count": 92,
     "metadata": {},
     "output_type": "execute_result"
    },
    {
     "data": {
      "image/png": "[encoded data removed]",
      "text/plain": [
       "<Figure size 432x288 with 1 Axes>"
      ]
     },
     "metadata": {
      "needs_background": "light"
     },
     "output_type": "display_data"
    }
   ],
   "source": [
    "plt.boxplot(Sample_Data.Age)"
   ]
  },
  {
   "cell_type": "code",
   "execution_count": 93,
   "metadata": {},
   "outputs": [
    {
     "data": {
      "text/plain": [
       "(array([4., 0., 4., 4., 3., 9., 2., 0., 2., 2.]),\n",
       " array([19. , 21.7, 24.4, 27.1, 29.8, 32.5, 35.2, 37.9, 40.6, 43.3, 46. ]),\n",
       " <a list of 10 Patch objects>)"
      ]
     },
     "execution_count": 93,
     "metadata": {},
     "output_type": "execute_result"
    },
    {
     "data": {
      "image/png": "[encoded data removed]",
      "text/plain": [
       "<Figure size 432x288 with 1 Axes>"
      ]
     },
     "metadata": {
      "needs_background": "light"
     },
     "output_type": "display_data"
    }
   ],
   "source": [
    "plt.hist(Sample_Data.Age)"
   ]
  },
  {
   "cell_type": "code",
   "execution_count": 94,
   "metadata": {},
   "outputs": [],
   "source": [
    "Sample_Data =Sample_Data[Sample_Data['Age']<=40] "
   ]
  },
  {
   "cell_type": "code",
   "execution_count": 95,
   "metadata": {},
   "outputs": [
    {
     "data": {
      "text/plain": [
       "{'whiskers': [<matplotlib.lines.Line2D at 0x1badae70>,\n",
       "  <matplotlib.lines.Line2D at 0x1ba38db0>],\n",
       " 'caps': [<matplotlib.lines.Line2D at 0x1ba822f0>,\n",
       "  <matplotlib.lines.Line2D at 0x1cab08b0>],\n",
       " 'boxes': [<matplotlib.lines.Line2D at 0x1badae50>],\n",
       " 'medians': [<matplotlib.lines.Line2D at 0x1cab0b70>],\n",
       " 'fliers': [<matplotlib.lines.Line2D at 0x1cab0d90>],\n",
       " 'means': []}"
      ]
     },
     "execution_count": 95,
     "metadata": {},
     "output_type": "execute_result"
    },
    {
     "data": {
      "image/png": "[encoded data removed]",
      "text/plain": [
       "<Figure size 432x288 with 1 Axes>"
      ]
     },
     "metadata": {
      "needs_background": "light"
     },
     "output_type": "display_data"
    }
   ],
   "source": [
    "plt.boxplot(Sample_Data.Age)"
   ]
  },
  {
   "cell_type": "code",
   "execution_count": 96,
   "metadata": {},
   "outputs": [
    {
     "data": {
      "text/plain": [
       "(array([3., 1., 0., 3., 1., 4., 2., 4., 6., 2.]),\n",
       " array([19. , 20.8, 22.6, 24.4, 26.2, 28. , 29.8, 31.6, 33.4, 35.2, 37. ]),\n",
       " <a list of 10 Patch objects>)"
      ]
     },
     "execution_count": 96,
     "metadata": {},
     "output_type": "execute_result"
    },
    {
     "data": {
      "image/png": "[encoded data removed]",
      "text/plain": [
       "<Figure size 432x288 with 1 Axes>"
      ]
     },
     "metadata": {
      "needs_background": "light"
     },
     "output_type": "display_data"
    }
   ],
   "source": [
    "plt.hist(Sample_Data.Age)"
   ]
  },
  {
   "cell_type": "code",
   "execution_count": 97,
   "metadata": {},
   "outputs": [],
   "source": [
    "Sam_Mean = Sample_Data['Age'].mean()\n",
    "Sam_Median = Sample_Data['Age'].median()\n",
    "Sam_std = Sample_Data['Age'].std()\n",
    "Sam_n = Sample_Data['Age'].count()"
   ]
  },
  {
   "cell_type": "code",
   "execution_count": 98,
   "metadata": {},
   "outputs": [
    {
     "name": "stdout",
     "output_type": "stream",
     "text": [
      "Sam_Mean: 29.615384615384617 \n",
      "Sam_Median: 31.0 \n",
      "Sam_std: 5.514177531251042 \n",
      "Sam_n: 26\n"
     ]
    }
   ],
   "source": [
    "print(\"Sam_Mean:\",Sam_Mean,\"\\nSam_Median:\",Sam_Median,\"\\nSam_std:\",Sam_std,\"\\nSam_n:\",Sam_n)"
   ]
  },
  {
   "cell_type": "code",
   "execution_count": 109,
   "metadata": {},
   "outputs": [
    {
     "data": {
      "text/plain": [
       "-3.9922103213242472"
      ]
     },
     "execution_count": 109,
     "metadata": {},
     "output_type": "execute_result"
    }
   ],
   "source": [
    "#Z test\n",
    "Pop_Sample_Mean = Sam_Mean -Pop_Mean \n",
    "Pop_Sample_Mean"
   ]
  },
  {
   "cell_type": "code",
   "execution_count": 110,
   "metadata": {},
   "outputs": [
    {
     "data": {
      "text/plain": [
       "5.0990195135927845"
      ]
     },
     "execution_count": 110,
     "metadata": {},
     "output_type": "execute_result"
    }
   ],
   "source": [
    "n = np.sqrt(Sam_n)\n",
    "n"
   ]
  },
  {
   "cell_type": "code",
   "execution_count": 111,
   "metadata": {},
   "outputs": [
    {
     "data": {
      "text/plain": [
       "1.0814191858947675"
      ]
     },
     "execution_count": 111,
     "metadata": {},
     "output_type": "execute_result"
    }
   ],
   "source": [
    "denominator =(Sam_std/n)\n",
    "denominator"
   ]
  },
  {
   "cell_type": "code",
   "execution_count": 112,
   "metadata": {},
   "outputs": [],
   "source": [
    "Z_Test = Pop_Sample_Mean/(Sam_std/n)"
   ]
  },
  {
   "cell_type": "code",
   "execution_count": 113,
   "metadata": {},
   "outputs": [
    {
     "data": {
      "text/plain": [
       "-3.691639998065216"
      ]
     },
     "execution_count": 113,
     "metadata": {},
     "output_type": "execute_result"
    }
   ],
   "source": [
    "Z_Test"
   ]
  },
  {
   "cell_type": "code",
   "execution_count": 114,
   "metadata": {},
   "outputs": [
    {
     "data": {
      "text/plain": [
       "25"
      ]
     },
     "execution_count": 114,
     "metadata": {},
     "output_type": "execute_result"
    }
   ],
   "source": [
    "Alpha = 0.05\n",
    "n = 300\n",
    "df = Sam_n-1\n",
    "df"
   ]
  },
  {
   "cell_type": "code",
   "execution_count": 115,
   "metadata": {},
   "outputs": [],
   "source": [
    "Z_Score =1.645"
   ]
  },
  {
   "cell_type": "code",
   "execution_count": 78,
   "metadata": {},
   "outputs": [],
   "source": [
    "#We have enough evidence that employees below 30 are leaving the organization "
   ]
  },
  {
   "cell_type": "code",
   "execution_count": 118,
   "metadata": {},
   "outputs": [],
   "source": [
    "Pop = MasterData_Yes['MonthlyIncome'].count()\n",
    "Pop_Mean = MasterData_Yes['MonthlyIncome'].mean()\n",
    "Pop_Median = MasterData_Yes['MonthlyIncome'].median()\n",
    "Pop_std = MasterData_Yes['MonthlyIncome'].std()\n"
   ]
  },
  {
   "cell_type": "code",
   "execution_count": 122,
   "metadata": {},
   "outputs": [
    {
     "name": "stdout",
     "output_type": "stream",
     "text": [
      "Pop: 711 \n",
      "Pop_Mean: 61682.61603375527 \n",
      "Pop_Median: 49080.0 \n",
      "Pop_std: 44792.0676946041\n"
     ]
    }
   ],
   "source": [
    "print(\"Pop:\",Pop,\"\\nPop_Mean:\",Pop_Mean,\"\\nPop_Median:\",Pop_Median,\"\\nPop_std:\",Pop_std)"
   ]
  },
  {
   "cell_type": "code",
   "execution_count": 123,
   "metadata": {},
   "outputs": [
    {
     "data": {
      "text/plain": [
       "count       711.000000\n",
       "mean      61682.616034\n",
       "std       44792.067695\n",
       "min       10090.000000\n",
       "25%       28440.000000\n",
       "50%       49080.000000\n",
       "75%       71040.000000\n",
       "max      198590.000000\n",
       "Name: MonthlyIncome, dtype: float64"
      ]
     },
     "execution_count": 123,
     "metadata": {},
     "output_type": "execute_result"
    }
   ],
   "source": [
    "MasterData_Yes['MonthlyIncome'].describe()"
   ]
  },
  {
   "cell_type": "code",
   "execution_count": 125,
   "metadata": {},
   "outputs": [
    {
     "data": {
      "text/plain": [
       "{'whiskers': [<matplotlib.lines.Line2D at 0x1cd2d9d0>,\n",
       "  <matplotlib.lines.Line2D at 0x1cd3c790>],\n",
       " 'caps': [<matplotlib.lines.Line2D at 0x1cddecb0>,\n",
       "  <matplotlib.lines.Line2D at 0x1cd2d570>],\n",
       " 'boxes': [<matplotlib.lines.Line2D at 0x1cd3c5f0>],\n",
       " 'medians': [<matplotlib.lines.Line2D at 0x1cde1ef0>],\n",
       " 'fliers': [<matplotlib.lines.Line2D at 0x1cdde0f0>],\n",
       " 'means': []}"
      ]
     },
     "execution_count": 125,
     "metadata": {},
     "output_type": "execute_result"
    },
    {
     "data": {
      "image/png": "[encoded data removed]",
      "text/plain": [
       "<Figure size 432x288 with 1 Axes>"
      ]
     },
     "metadata": {
      "needs_background": "light"
     },
     "output_type": "display_data"
    }
   ],
   "source": [
    "plt.boxplot(MasterData_Yes.MonthlyIncome)"
   ]
  },
  {
   "cell_type": "code",
   "execution_count": 126,
   "metadata": {},
   "outputs": [
    {
     "data": {
      "text/plain": [
       "(array([198., 150., 159.,  60.,  45.,  18.,  18.,  15.,  24.,  24.]),\n",
       " array([ 10090.,  28940.,  47790.,  66640.,  85490., 104340., 123190.,\n",
       "        142040., 160890., 179740., 198590.]),\n",
       " <a list of 10 Patch objects>)"
      ]
     },
     "execution_count": 126,
     "metadata": {},
     "output_type": "execute_result"
    },
    {
     "data": {
      "image/png": "[encoded data removed]",
      "text/plain": [
       "<Figure size 432x288 with 1 Axes>"
      ]
     },
     "metadata": {
      "needs_background": "light"
     },
     "output_type": "display_data"
    }
   ],
   "source": [
    "plt.hist(MasterData_Yes.MonthlyIncome)"
   ]
  },
  {
   "cell_type": "code",
   "execution_count": 127,
   "metadata": {},
   "outputs": [
    {
     "data": {
      "text/plain": [
       "1.5407053958375003"
      ]
     },
     "execution_count": 127,
     "metadata": {},
     "output_type": "execute_result"
    }
   ],
   "source": [
    "MasterData_Yes['MonthlyIncome'].skew()"
   ]
  },
  {
   "cell_type": "code",
   "execution_count": 128,
   "metadata": {},
   "outputs": [
    {
     "data": {
      "text/plain": [
       "1.6581759023689222"
      ]
     },
     "execution_count": 128,
     "metadata": {},
     "output_type": "execute_result"
    }
   ],
   "source": [
    "MasterData_Yes['MonthlyIncome'].kurtosis()"
   ]
  },
  {
   "cell_type": "code",
   "execution_count": 136,
   "metadata": {},
   "outputs": [],
   "source": [
    "Sample_Data = MasterData_Yes.sample(30)"
   ]
  },
  {
   "cell_type": "code",
   "execution_count": 137,
   "metadata": {},
   "outputs": [
    {
     "data": {
      "text/plain": [
       "count        30.000000\n",
       "mean      65176.666667\n",
       "std       50025.980170\n",
       "min       20700.000000\n",
       "25%       27937.500000\n",
       "50%       53600.000000\n",
       "75%       74150.000000\n",
       "max      191900.000000\n",
       "Name: MonthlyIncome, dtype: float64"
      ]
     },
     "execution_count": 137,
     "metadata": {},
     "output_type": "execute_result"
    }
   ],
   "source": [
    "Sample_Data['MonthlyIncome'].describe()"
   ]
  },
  {
   "cell_type": "code",
   "execution_count": 138,
   "metadata": {},
   "outputs": [
    {
     "data": {
      "text/plain": [
       "1.424423409415735"
      ]
     },
     "execution_count": 138,
     "metadata": {},
     "output_type": "execute_result"
    }
   ],
   "source": [
    "Sample_Data['MonthlyIncome'].skew()"
   ]
  },
  {
   "cell_type": "code",
   "execution_count": 141,
   "metadata": {},
   "outputs": [
    {
     "data": {
      "text/plain": [
       "0.9693802879120894"
      ]
     },
     "execution_count": 141,
     "metadata": {},
     "output_type": "execute_result"
    }
   ],
   "source": [
    "Sample_Data['MonthlyIncome'].kurtosis()"
   ]
  },
  {
   "cell_type": "code",
   "execution_count": 198,
   "metadata": {},
   "outputs": [
    {
     "name": "stdout",
     "output_type": "stream",
     "text": [
      "Pop: MonthlyIncome 711 \n",
      "Pop_Mean: MonthlyIncome 61682.61603375527 \n",
      "Pop_Median: MonthlyIncome 49080.0 \n",
      "Pop_std: MonthlyIncome 44792.0676946041 \n",
      "Sam_n: MonthlyIncome 30\n",
      "Postive Skewness: 1.424423409415735\n",
      "It is Leptokrutic: 0.9693802879120894\n",
      "T_Test: 0.3825552927125362\n",
      "T_Score as per T-Table: 1.699\n",
      "We are performing Right tailed test !!!!!\n",
      "Acccept the Null Hypothesis\n",
      "\n",
      "-------------\n",
      "Pop: YearsSinceLastPromotion 711 \n",
      "Pop_Mean: YearsSinceLastPromotion 1.9451476793248945 \n",
      "Pop_Median: YearsSinceLastPromotion 1.0 \n",
      "Pop_std: YearsSinceLastPromotion 3.1486327816455604 \n",
      "Sam_n: YearsSinceLastPromotion 30\n",
      "Postive Skewness: 1.9807771304655575\n",
      "It is Leptokrutic: 3.4568520950744683\n",
      "T_Test: -0.019423670871223524\n",
      "T_Score as per T-Table: 1.699\n",
      "We are performing Right tailed test !!!!!\n",
      "Acccept the Null Hypothesis\n",
      "\n",
      "-------------\n",
      "Pop: YearsWithCurrManager 711 \n",
      "Pop_Mean: YearsWithCurrManager 2.852320675105485 \n",
      "Pop_Median: YearsWithCurrManager 2.0 \n",
      "Pop_std: YearsWithCurrManager 3.138918282970025 \n",
      "Sam_n: YearsWithCurrManager 30\n",
      "Postive Skewness: 1.2882009441481272\n",
      "It is Leptokrutic: 1.1419936827175765\n",
      "T_Test: 0.4178607086172925\n",
      "T_Score as per T-Table: 1.699\n",
      "We are performing Right tailed test !!!!!\n",
      "Acccept the Null Hypothesis\n",
      "\n",
      "-------------\n"
     ]
    }
   ],
   "source": [
    "Mylist =['MonthlyIncome','YearsSinceLastPromotion','YearsWithCurrManager']\n",
    "\n",
    "for i in Mylist:\n",
    "    Pop = MasterData_Yes[i].count()\n",
    "    Pop_Mean = MasterData_Yes[i].mean()\n",
    "    Pop_Median = MasterData_Yes[i].median()\n",
    "    Pop_std = MasterData_Yes[i].std()\n",
    "    print(\"Pop:\",i,Pop,\"\\nPop_Mean:\",i,Pop_Mean,\"\\nPop_Median:\",i,Pop_Median,\"\\nPop_std:\",i,Pop_std,\"\\nSam_n:\",i,Sam_n )\n",
    "    Sam_Mean = Sample_Data[i].mean()\n",
    "    Sam_Median = Sample_Data[i].median()\n",
    "    Sam_std = Sample_Data[i].std()\n",
    "    Sam_n = Sample_Data[i].count()\n",
    "    Pop_Sample_Mean = Sam_Mean -Pop_Mean\n",
    "    n = np.sqrt(Sam_n)\n",
    "    if Sample_Data[i].skew()==0 or (Sam_Mean == Sam_Median):\n",
    "        print(\"Normal Distribution Skewness\",Sample_Data[i].skew())\n",
    "    elif Sample_Data[i].skew()>0 or (Sam_Mean > Sam_Median):\n",
    "        print(\"Postive Skewness:\",Sample_Data[i].skew())\n",
    "    elif Sample_Data[i].skew()<0 or (Sam_Mean < Sam_Median):\n",
    "        print(\"Negative Skewness:\",Sample_Data[i].skew())\n",
    "    else:\n",
    "        print(\"\")\n",
    "        \n",
    "    if Sample_Data[i].kurtosis()==0: \n",
    "        print(\"It is Mesokrutic\",Sample_Data[i].kurtosis())\n",
    "    elif Sample_Data[i].kurtosis()>0:\n",
    "        print(\"It is Leptokrutic:\",Sample_Data[i].kurtosis())\n",
    "    elif Sample_Data[i].kurtosis()<0 :\n",
    "        print(\"It is Platykurtic:\",Sample_Data[i].kurtosis())\n",
    "    else:\n",
    "        print(null())\n",
    "    \n",
    "    Alpha = 0.05\n",
    "    Z_score = 1.645\n",
    "    T_Score = 1.699\n",
    "    if Sam_n <=30:\n",
    "        T_Test = Pop_Sample_Mean/(Sam_std/n)\n",
    "        print(\"T_Test:\",T_Test)\n",
    "        print(\"T_Score as per T-Table:\",T_Score)\n",
    "        print(\"We are performing Right tailed test !!!!!\") \n",
    "        \n",
    "        if T_Test < T_Score:\n",
    "            print(\"Acccept the Null Hypothesis\")\n",
    "        else:\n",
    "            print(\"Acccept the Alternative Hypothesis and Reject Null Hypothesis as values are aren't below the T_Test Score\")\n",
    "        print(\"\\n-------------\")\n",
    "    else:\n",
    "        Z_Test = Pop_Sample_Mean/(Pop_std/n)\n",
    "        print(\"Z_Test:\",Z_Test)\n",
    "        print(\"Z_Score as per T-Table:\",Z_score)\n",
    "        print(\"We are performing Right tailed test !!!!!\") \n",
    "        if Z_Test < Z_Score:\n",
    "            print(\"Acccept the Null Hypothesis\")\n",
    "        else:\n",
    "            print(\"Acccept the Alternative Hypothesis and Reject Null Hypothesis as values are aren't below the Z_Test Score\")        \n",
    "        print(\"\\n\")\n",
    "        "
   ]
  },
  {
   "cell_type": "code",
   "execution_count": 189,
   "metadata": {},
   "outputs": [
    {
     "data": {
      "text/plain": [
       "{'whiskers': [<matplotlib.lines.Line2D at 0x1da75610>,\n",
       "  <matplotlib.lines.Line2D at 0x1da756b0>],\n",
       " 'caps': [<matplotlib.lines.Line2D at 0x1d908d90>,\n",
       "  <matplotlib.lines.Line2D at 0x1d908bd0>],\n",
       " 'boxes': [<matplotlib.lines.Line2D at 0x1da75ad0>],\n",
       " 'medians': [<matplotlib.lines.Line2D at 0x1da75a10>],\n",
       " 'fliers': [<matplotlib.lines.Line2D at 0x1dba2cd0>],\n",
       " 'means': []}"
      ]
     },
     "execution_count": 189,
     "metadata": {},
     "output_type": "execute_result"
    },
    {
     "data": {
      "image/png": "[encoded data removed]",
      "text/plain": [
       "<Figure size 432x288 with 1 Axes>"
      ]
     },
     "metadata": {
      "needs_background": "light"
     },
     "output_type": "display_data"
    }
   ],
   "source": [
    "Mylist =['MonthlyIncome','YearsSinceLastPromotion','YearsWithCurrManager']\n",
    "\n",
    "plt.boxplot(Attrition_Yes.MonthlyIncome)"
   ]
  },
  {
   "cell_type": "code",
   "execution_count": 190,
   "metadata": {},
   "outputs": [
    {
     "data": {
      "text/plain": [
       "(array([198., 150., 159.,  60.,  45.,  18.,  18.,  15.,  24.,  24.]),\n",
       " array([ 10090.,  28940.,  47790.,  66640.,  85490., 104340., 123190.,\n",
       "        142040., 160890., 179740., 198590.]),\n",
       " <a list of 10 Patch objects>)"
      ]
     },
     "execution_count": 190,
     "metadata": {},
     "output_type": "execute_result"
    },
    {
     "data": {
      "image/png": "[encoded data removed]",
      "text/plain": [
       "<Figure size 432x288 with 1 Axes>"
      ]
     },
     "metadata": {
      "needs_background": "light"
     },
     "output_type": "display_data"
    }
   ],
   "source": [
    "plt.hist(Attrition_Yes.MonthlyIncome)"
   ]
  },
  {
   "cell_type": "code",
   "execution_count": 191,
   "metadata": {},
   "outputs": [
    {
     "data": {
      "text/plain": [
       "{'whiskers': [<matplotlib.lines.Line2D at 0x1cccb8b0>,\n",
       "  <matplotlib.lines.Line2D at 0x1cccbbd0>],\n",
       " 'caps': [<matplotlib.lines.Line2D at 0x1cccbe10>,\n",
       "  <matplotlib.lines.Line2D at 0x1d67e0f0>],\n",
       " 'boxes': [<matplotlib.lines.Line2D at 0x1cccb890>],\n",
       " 'medians': [<matplotlib.lines.Line2D at 0x1d67e4f0>],\n",
       " 'fliers': [<matplotlib.lines.Line2D at 0x1d67edd0>],\n",
       " 'means': []}"
      ]
     },
     "execution_count": 191,
     "metadata": {},
     "output_type": "execute_result"
    },
    {
     "data": {
      "image/png": "[encoded data removed]",
      "text/plain": [
       "<Figure size 432x288 with 1 Axes>"
      ]
     },
     "metadata": {
      "needs_background": "light"
     },
     "output_type": "display_data"
    }
   ],
   "source": [
    "plt.boxplot(Attrition_Yes.YearsSinceLastPromotion)"
   ]
  },
  {
   "cell_type": "code",
   "execution_count": 192,
   "metadata": {},
   "outputs": [
    {
     "data": {
      "text/plain": [
       "(array([477.,  81.,  42.,   6.,  66.,   0.,  15.,   6.,   6.,  12.]),\n",
       " array([ 0. ,  1.5,  3. ,  4.5,  6. ,  7.5,  9. , 10.5, 12. , 13.5, 15. ]),\n",
       " <a list of 10 Patch objects>)"
      ]
     },
     "execution_count": 192,
     "metadata": {},
     "output_type": "execute_result"
    },
    {
     "data": {
      "image/png": "[encoded data removed]",
      "text/plain": [
       "<Figure size 432x288 with 1 Axes>"
      ]
     },
     "metadata": {
      "needs_background": "light"
     },
     "output_type": "display_data"
    }
   ],
   "source": [
    "plt.hist(Attrition_Yes.YearsSinceLastPromotion)"
   ]
  },
  {
   "cell_type": "code",
   "execution_count": 193,
   "metadata": {},
   "outputs": [
    {
     "data": {
      "text/plain": [
       "{'whiskers': [<matplotlib.lines.Line2D at 0x1cc67190>,\n",
       "  <matplotlib.lines.Line2D at 0x1cc673b0>],\n",
       " 'caps': [<matplotlib.lines.Line2D at 0x1cc67610>,\n",
       "  <matplotlib.lines.Line2D at 0x1cc67870>],\n",
       " 'boxes': [<matplotlib.lines.Line2D at 0x1cc41e30>],\n",
       " 'medians': [<matplotlib.lines.Line2D at 0x1cc67b30>],\n",
       " 'fliers': [<matplotlib.lines.Line2D at 0x1cc67d50>],\n",
       " 'means': []}"
      ]
     },
     "execution_count": 193,
     "metadata": {},
     "output_type": "execute_result"
    },
    {
     "data": {
      "image/png": "[encoded data removed]",
      "text/plain": [
       "<Figure size 432x288 with 1 Axes>"
      ]
     },
     "metadata": {
      "needs_background": "light"
     },
     "output_type": "display_data"
    }
   ],
   "source": [
    "plt.boxplot(Attrition_Yes.YearsWithCurrManager)"
   ]
  },
  {
   "cell_type": "code",
   "execution_count": 194,
   "metadata": {},
   "outputs": [
    {
     "data": {
      "text/plain": [
       "(array([288., 150.,  90.,  12.,  12., 123.,  18.,  12.,   0.,   6.]),\n",
       " array([ 0. ,  1.4,  2.8,  4.2,  5.6,  7. ,  8.4,  9.8, 11.2, 12.6, 14. ]),\n",
       " <a list of 10 Patch objects>)"
      ]
     },
     "execution_count": 194,
     "metadata": {},
     "output_type": "execute_result"
    },
    {
     "data": {
      "image/png": "[encoded data removed]",
      "text/plain": [
       "<Figure size 432x288 with 1 Axes>"
      ]
     },
     "metadata": {
      "needs_background": "light"
     },
     "output_type": "display_data"
    }
   ],
   "source": [
    "plt.hist(Attrition_Yes.YearsWithCurrManager)"
   ]
  },
  {
   "cell_type": "markdown",
   "metadata": {},
   "source": [
    "# Results of Hypothesis Testing\n",
    "\n",
    "For MonthlyIncome\n",
    "Population :  711 \n",
    "Mean:61682.6 \n",
    "Median:49080.0 \n",
    "std: 44792.0 \n",
    "Sample n: 30\n",
    "Postive Skewness: 1.424423409415735\n",
    "It is Leptokrutic: 0.9693802879120894\n",
    "T_Test: 0.3825552927125362\n",
    "T_Score as per T-Table: 1.699\n",
    "We are performing Right tailed test !!!!!\n",
    "Acccept the Null Hypothesis\n",
    "and Monthly income has Many Outliers in it\n",
    "\n",
    "-------------\n",
    "YearsSinceLastPromotion\n",
    "\n",
    "Population:  711 \n",
    "Mean: 1.94 \n",
    "Median:1.0 \n",
    "std: 3.14 \n",
    "Sample n:  30\n",
    "Postive Skewness: 1.9807771304655575\n",
    "It is Leptokrutic: 3.4568520950744683\n",
    "T_Test: -0.019423670871223524\n",
    "T_Score as per T-Table: 1.699\n",
    "We are performing Right tailed test !!!!!\n",
    "Acccept the Null Hypothesis\n",
    "and Monthly income has few Outliers in it\n",
    "\n",
    "-------------\n",
    "YearsWithCurrManager\n",
    "Population:  711 \n",
    "Mean: 2.85 \n",
    "Median:  2.0 \n",
    "std: 3.13 \n",
    "Sample n: 30\n",
    "Postive Skewness: 1.2882009441481272\n",
    "It is Leptokrutic: 1.1419936827175765\n",
    "T_Test: 0.4178607086172925\n",
    "T_Score as per T-Table: 1.699\n",
    "We are performing Right tailed test !!!!!\n",
    "Acccept the Null Hypothesis\n",
    "Monthly income has 2 Outliers in it"
   ]
  },
  {
   "cell_type": "code",
   "execution_count": null,
   "metadata": {},
   "outputs": [],
   "source": []
  }
 ],
 "metadata": {
  "kernelspec": {
   "display_name": "Python 3",
   "language": "python",
   "name": "python3"
  },
  "language_info": {
   "codemirror_mode": {
    "name": "ipython",
    "version": 3
   },
   "file_extension": ".py",
   "mimetype": "text/x-python",
   "name": "python",
   "nbconvert_exporter": "python",
   "pygments_lexer": "ipython3",
   "version": "3.7.4"
  }
 },
 "nbformat": 4,
 "nbformat_minor": 2
}

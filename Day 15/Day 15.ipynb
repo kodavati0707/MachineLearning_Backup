{
 "cells": [
  {
   "cell_type": "markdown",
   "metadata": {},
   "source": [
    "# 1. Create a 3x3x3 array with random values "
   ]
  },
  {
   "cell_type": "code",
   "execution_count": 219,
   "metadata": {},
   "outputs": [
    {
     "name": "stdout",
     "output_type": "stream",
     "text": [
      "(3, 3, 3)\n",
      "[[[1 1 2]\n",
      "  [1 0 2]\n",
      "  [1 2 2]]\n",
      "\n",
      " [[2 0 0]\n",
      "  [1 1 1]\n",
      "  [2 1 1]]\n",
      "\n",
      " [[1 0 0]\n",
      "  [2 1 1]\n",
      "  [1 2 0]]]\n"
     ]
    }
   ],
   "source": [
    "import numpy as np\n",
    "\n",
    "z = np.random.randint(3,size=(3,3,3))\n",
    "\n",
    "print(z.shape)\n",
    "print(z)\n"
   ]
  },
  {
   "cell_type": "markdown",
   "metadata": {},
   "source": [
    "# 2.Create a 5x5 matrix with values 1,2,3,4 just below the diagonal"
   ]
  },
  {
   "cell_type": "code",
   "execution_count": 220,
   "metadata": {},
   "outputs": [
    {
     "name": "stdout",
     "output_type": "stream",
     "text": [
      "[[1. 0. 0. 0. 0.]\n",
      " [0. 2. 0. 0. 0.]\n",
      " [0. 0. 3. 0. 0.]\n",
      " [0. 0. 0. 4. 0.]\n",
      " [0. 0. 0. 0. 5.]]\n"
     ]
    }
   ],
   "source": [
    "mat_A = np.zeros((5,5))\n",
    "mylist = [0,1,2,3,4]\n",
    "mylist1 = [1,2,3,4,5]\n",
    "for i in range(len(mat_A)):\n",
    "    mat_A[i][i] = mylist1[i]\n",
    "\n",
    "print(mat_A)"
   ]
  },
  {
   "cell_type": "markdown",
   "metadata": {},
   "source": [
    "# 3.Create a 8x8 matrix and fill it with a checkerboard pattern"
   ]
  },
  {
   "cell_type": "code",
   "execution_count": 221,
   "metadata": {},
   "outputs": [
    {
     "data": {
      "text/plain": [
       "array([[0., 1., 0., 0., 0., 0., 0., 0.],\n",
       "       [1., 0., 1., 0., 1., 0., 1., 0.],\n",
       "       [0., 1., 0., 0., 0., 0., 0., 0.],\n",
       "       [1., 0., 1., 0., 1., 0., 1., 0.],\n",
       "       [0., 1., 0., 0., 0., 0., 0., 0.],\n",
       "       [1., 0., 1., 0., 1., 0., 1., 0.],\n",
       "       [0., 1., 0., 0., 0., 0., 0., 0.],\n",
       "       [1., 0., 1., 0., 1., 0., 1., 0.]])"
      ]
     },
     "execution_count": 221,
     "metadata": {},
     "output_type": "execute_result"
    }
   ],
   "source": [
    "checkerboard_ones = np.zeros((8,8))\n",
    "\n",
    "checkerboard_ones[1::2,::2] =1\n",
    "checkerboard_ones[::2,1:2] =1\n",
    "checkerboard_ones"
   ]
  },
  {
   "cell_type": "markdown",
   "metadata": {},
   "source": [
    "# 4. Normalize a 5x5 random matrix"
   ]
  },
  {
   "cell_type": "code",
   "execution_count": 222,
   "metadata": {},
   "outputs": [
    {
     "name": "stdout",
     "output_type": "stream",
     "text": [
      "Before\n",
      " [[0.93083842 0.64085228 0.59168293 0.68519403 0.04420798]\n",
      " [0.95086469 0.79256901 0.68778194 0.41537479 0.81636049]\n",
      " [0.08342338 0.8167041  0.77918534 0.08884069 0.63709811]\n",
      " [0.76431394 0.95790444 0.60624305 0.35972661 0.46688086]\n",
      " [0.74840602 0.1287819  0.18657957 0.39076787 0.80001504]]\n",
      "After\n",
      " [[0.97037744 0.65300055 0.5991869  0.70153062 0.        ]\n",
      " [0.99229531 0.81904775 0.70436298 0.40622551 0.84508646]\n",
      " [0.04291951 0.84546252 0.80439991 0.04884851 0.64889178]\n",
      " [0.78812383 1.         0.6151223  0.34532106 0.46259661]\n",
      " [0.77071333 0.09256238 0.15581936 0.37929433 0.8271971 ]]\n"
     ]
    }
   ],
   "source": [
    "x = np.random.random((5,5))\n",
    "print(\"Before\\n\", x)\n",
    "xmax ,xmin = x.max(),x.min()\n",
    "x = (x-xmin)/(xmax-xmin)\n",
    "print(\"After\\n\", x)"
   ]
  },
  {
   "cell_type": "markdown",
   "metadata": {},
   "source": [
    "# 5.  How to find common values between two arrays?"
   ]
  },
  {
   "cell_type": "code",
   "execution_count": 223,
   "metadata": {},
   "outputs": [
    {
     "data": {
      "text/plain": [
       "array([2, 4, 7])"
      ]
     },
     "execution_count": 223,
     "metadata": {},
     "output_type": "execute_result"
    }
   ],
   "source": [
    "matA = np.array([1,4,5,7,3,2])\n",
    "matB = np.array([9,4,8,7,4,2])\n",
    "\n",
    "np.intersect1d(matA,matB)"
   ]
  },
  {
   "cell_type": "markdown",
   "metadata": {},
   "source": [
    "# 6.How to get the dates of yesterday, today and tomorrow?"
   ]
  },
  {
   "cell_type": "code",
   "execution_count": 224,
   "metadata": {},
   "outputs": [
    {
     "name": "stdout",
     "output_type": "stream",
     "text": [
      "Yesterday 2020-07-26\n",
      "Today 2020-07-27\n",
      "Tomorrow 2020-07-28\n"
     ]
    }
   ],
   "source": [
    "Yesterday = np.datetime64('today',\"D\")-np.timedelta64(1,\"D\")\n",
    "print(\"Yesterday\" ,Yesterday)\n",
    "\n",
    "today = np.datetime64('today',\"D\")\n",
    "print(\"Today\" ,today)\n",
    "\n",
    "Tomorrow = np.datetime64('today',\"D\")+np.timedelta64(1,\"D\")\n",
    "print(\"Tomorrow\" ,Tomorrow)"
   ]
  },
  {
   "cell_type": "markdown",
   "metadata": {},
   "source": [
    "# 7. Consider two random array A and B, check if they are equal"
   ]
  },
  {
   "cell_type": "code",
   "execution_count": 225,
   "metadata": {},
   "outputs": [
    {
     "data": {
      "text/plain": [
       "array([[False, False, False],\n",
       "       [False, False, False],\n",
       "       [False, False, False]])"
      ]
     },
     "execution_count": 225,
     "metadata": {},
     "output_type": "execute_result"
    }
   ],
   "source": [
    "arr_1 = np.random.rand(3,3)\n",
    "arr_2 = np.random.rand(3,3)\n",
    "arr_1 == arr_2"
   ]
  },
  {
   "cell_type": "markdown",
   "metadata": {},
   "source": [
    "# 8.Create random vector of size 10 and replace the maximum value by 0 "
   ]
  },
  {
   "cell_type": "code",
   "execution_count": 226,
   "metadata": {},
   "outputs": [
    {
     "name": "stdout",
     "output_type": "stream",
     "text": [
      "Size is: 10\n",
      "Max is: 0.9570699203428422\n",
      "before: \n",
      " [0.91022206 0.79489323 0.05770502 0.28654693 0.88584428 0.89686993\n",
      " 0.47917135 0.44060233 0.95706992 0.61387557]\n",
      "After: \n",
      " [0.91022206 0.79489323 0.05770502 0.28654693 0.88584428 0.89686993\n",
      " 0.47917135 0.44060233 0.         0.61387557]\n"
     ]
    }
   ],
   "source": [
    "arr_3 = np.random.random(10)\n",
    "print(\"Size is:\",arr_3.size)\n",
    "print(\"Max is:\",arr_3.max())\n",
    "print(\"before: \\n\",arr_3)\n",
    "for i in range(len(arr_3)):\n",
    "    if arr_3[i] == arr_3.max():\n",
    "        arr_3[i] =0\n",
    "print(\"After: \\n\",arr_3)"
   ]
  },
  {
   "cell_type": "markdown",
   "metadata": {},
   "source": [
    "# 9. How to print all the values of an array?"
   ]
  },
  {
   "cell_type": "code",
   "execution_count": 227,
   "metadata": {},
   "outputs": [
    {
     "name": "stdout",
     "output_type": "stream",
     "text": [
      "0.9102220550462763\n",
      "0.7948932303850074\n",
      "0.05770502333300964\n",
      "0.2865469305175522\n",
      "0.8858442782702702\n",
      "0.8968699278632473\n",
      "0.4791713480679005\n",
      "0.4406023286216678\n",
      "0.0\n",
      "0.6138755715934274\n"
     ]
    }
   ],
   "source": [
    "for i in range(len(arr_3)):\n",
    "    print(arr_3[i])"
   ]
  },
  {
   "cell_type": "markdown",
   "metadata": {},
   "source": [
    "# 10.Subtract the mean of each row of a matrix"
   ]
  },
  {
   "cell_type": "code",
   "execution_count": 228,
   "metadata": {},
   "outputs": [
    {
     "name": "stdout",
     "output_type": "stream",
     "text": [
      "[[4 3 2]\n",
      " [3 3 1]\n",
      " [4 3 0]]\n",
      "2.5555555555555554\n"
     ]
    },
    {
     "data": {
      "text/plain": [
       "array([[ 1.44444444,  0.44444444, -0.55555556],\n",
       "       [ 0.44444444,  0.44444444, -1.55555556],\n",
       "       [ 1.44444444,  0.44444444, -2.55555556]])"
      ]
     },
     "execution_count": 228,
     "metadata": {},
     "output_type": "execute_result"
    }
   ],
   "source": [
    "arr1 = np.random.randint(5,size=(3,3))\n",
    "print(arr1)\n",
    "mn = arr1.mean()\n",
    "print(mn)\n",
    "np.subtract(arr1,mn)"
   ]
  },
  {
   "cell_type": "markdown",
   "metadata": {},
   "source": [
    "# 11.Consider a given vector, how to add 1 to each element indexed by a second vector (be careful with repeated indices)? "
   ]
  },
  {
   "cell_type": "code",
   "execution_count": 229,
   "metadata": {},
   "outputs": [
    {
     "name": "stdout",
     "output_type": "stream",
     "text": [
      "[1. 1. 1. 1. 1. 1. 1. 1. 1. 1.]\n",
      "[0 0 0 5 8 1 5 1 3 1 7 3 5 1 6 4 2 0 9 4]\n"
     ]
    }
   ],
   "source": [
    "Z = np.ones(10)\n",
    "print(Z)\n",
    "I = np.random.randint(0,len(Z),20)\n",
    "print(I)\n",
    "Z += np.bincount(I, minlength=len(Z))\n"
   ]
  },
  {
   "cell_type": "code",
   "execution_count": 230,
   "metadata": {},
   "outputs": [
    {
     "name": "stdout",
     "output_type": "stream",
     "text": [
      "[5. 5. 2. 3. 3. 4. 2. 2. 2. 2.]\n"
     ]
    }
   ],
   "source": [
    "print(Z)"
   ]
  },
  {
   "cell_type": "markdown",
   "metadata": {},
   "source": [
    "# 12.How to get the diagonal of a dot product?"
   ]
  },
  {
   "cell_type": "code",
   "execution_count": 231,
   "metadata": {},
   "outputs": [
    {
     "name": "stdout",
     "output_type": "stream",
     "text": [
      "[[ 0  1  2  3  4]\n",
      " [ 5  6  7  8  9]\n",
      " [10 11 12 13 14]\n",
      " [15 16 17 18 19]\n",
      " [20 21 22 23 24]]\n",
      "60\n"
     ]
    },
    {
     "data": {
      "text/plain": [
       "array([ 0,  6, 12, 18, 24])"
      ]
     },
     "execution_count": 231,
     "metadata": {},
     "output_type": "execute_result"
    }
   ],
   "source": [
    "a = np.arange(25).reshape(5,5)\n",
    "print(a)\n",
    "print(np.einsum(a, [0,0]))\n",
    "np.einsum('ii->i',a)"
   ]
  },
  {
   "cell_type": "markdown",
   "metadata": {},
   "source": [
    "# 13.How to find the most frequent value in an array?"
   ]
  },
  {
   "cell_type": "code",
   "execution_count": 232,
   "metadata": {},
   "outputs": [
    {
     "name": "stdout",
     "output_type": "stream",
     "text": [
      "[2 3 4 4 3 4 4 5 3]\n",
      "4\n"
     ]
    }
   ],
   "source": [
    "arr2 =np.array([2,3,4,4,3,4,4,5,3])\n",
    "print(arr2)\n",
    "\n",
    "print(np.bincount(arr2).argmax())"
   ]
  },
  {
   "cell_type": "markdown",
   "metadata": {},
   "source": [
    "# 14.How to get the n largest values of an array"
   ]
  },
  {
   "cell_type": "code",
   "execution_count": 243,
   "metadata": {},
   "outputs": [
    {
     "name": "stdout",
     "output_type": "stream",
     "text": [
      "5\n"
     ]
    }
   ],
   "source": [
    "print(arr2.max())\n",
    "n = 1\n",
    "\n"
   ]
  },
  {
   "cell_type": "markdown",
   "metadata": {},
   "source": [
    "# 15.How to create a record array from a regular array?"
   ]
  },
  {
   "cell_type": "code",
   "execution_count": 234,
   "metadata": {},
   "outputs": [
    {
     "data": {
      "text/plain": [
       "rec.array([(1, 'Red', 12.2), (2, 'Green', 15. ), (3, 'White', 20. ),\n",
       "           (4, 'Orange', 40. )],\n",
       "          dtype=[('a', '<i4'), ('b', '<U6'), ('c', '<f8')])"
      ]
     },
     "execution_count": 234,
     "metadata": {},
     "output_type": "execute_result"
    }
   ],
   "source": [
    "import numpy as np\n",
    "a1=np.array([1,2,3,4])\n",
    "a2=np.array(['Red','Green','White','Orange'])\n",
    "a3=np.array([12.20,15,20,40])\n",
    "result= np.core.records.fromarrays([a1, a2, a3],names='a,b,c')\n",
    "result"
   ]
  },
  {
   "cell_type": "code",
   "execution_count": 235,
   "metadata": {},
   "outputs": [
    {
     "name": "stdout",
     "output_type": "stream",
     "text": [
      "(1, 'Red', 12.2)\n",
      "(2, 'Green', 15.)\n",
      "(3, 'White', 20.)\n"
     ]
    }
   ],
   "source": [
    "print(result[0])\n",
    "print(result[1])\n",
    "print(result[2])"
   ]
  }
 ],
 "metadata": {
  "kernelspec": {
   "display_name": "Python 3",
   "language": "python",
   "name": "python3"
  },
  "language_info": {
   "codemirror_mode": {
    "name": "ipython",
    "version": 3
   },
   "file_extension": ".py",
   "mimetype": "text/x-python",
   "name": "python",
   "nbconvert_exporter": "python",
   "pygments_lexer": "ipython3",
   "version": "3.7.4"
  }
 },
 "nbformat": 4,
 "nbformat_minor": 2
}
